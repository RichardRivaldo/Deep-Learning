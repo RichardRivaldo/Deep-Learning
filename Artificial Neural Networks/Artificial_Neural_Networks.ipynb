{
  "nbformat": 4,
  "nbformat_minor": 0,
  "metadata": {
    "colab": {
      "name": "Artificial Neural Networks.ipynb",
      "provenance": []
    },
    "kernelspec": {
      "name": "python3",
      "display_name": "Python 3"
    },
    "language_info": {
      "name": "python"
    }
  },
  "cells": [
    {
      "cell_type": "markdown",
      "metadata": {
        "id": "2DsBCmR87p__"
      },
      "source": [
        "Libraries"
      ]
    },
    {
      "cell_type": "code",
      "metadata": {
        "id": "LgLot6R75ajV"
      },
      "source": [
        "import numpy as np\n",
        "import matplotlib.pyplot as plt\n",
        "import pandas as pd"
      ],
      "execution_count": null,
      "outputs": []
    },
    {
      "cell_type": "code",
      "metadata": {
        "id": "3PzgWDiVCJOG"
      },
      "source": [
        "# Deep Learning Libraries\n",
        "import keras\n",
        "from keras.models import Sequential\n",
        "from keras.layers import Dense"
      ],
      "execution_count": null,
      "outputs": []
    },
    {
      "cell_type": "markdown",
      "metadata": {
        "id": "iaSeUwRd7sJb"
      },
      "source": [
        "Features and Target"
      ]
    },
    {
      "cell_type": "code",
      "metadata": {
        "id": "tiBpNJSk6YiX"
      },
      "source": [
        "dataset = pd.read_csv(\"Churn_Modelling.csv\")"
      ],
      "execution_count": null,
      "outputs": []
    },
    {
      "cell_type": "code",
      "metadata": {
        "id": "qstkUml06jgM"
      },
      "source": [
        "x = dataset.iloc[:, 3:-1].values\n",
        "y = dataset.iloc[:, -1].values"
      ],
      "execution_count": null,
      "outputs": []
    },
    {
      "cell_type": "markdown",
      "metadata": {
        "id": "3a5juG4B8VmI"
      },
      "source": [
        "Encode Categorical Data"
      ]
    },
    {
      "cell_type": "code",
      "metadata": {
        "id": "fe1eUWOg8aWz"
      },
      "source": [
        "from sklearn.preprocessing import LabelEncoder, OneHotEncoder\n",
        "encoder = LabelEncoder()"
      ],
      "execution_count": null,
      "outputs": []
    },
    {
      "cell_type": "code",
      "metadata": {
        "id": "IpWJrbIJ8XcM"
      },
      "source": [
        "# Encode Gender\n",
        "x[:, 2] = encoder.fit_transform(x[:, 2])"
      ],
      "execution_count": null,
      "outputs": []
    },
    {
      "cell_type": "code",
      "metadata": {
        "id": "VwMFdds39Lv8"
      },
      "source": [
        "# Because geography is not ordinal\n",
        "# And there are more than 2 values in it\n",
        "# Use OneHotEncoder\n",
        "from sklearn.compose import ColumnTransformer\n",
        "ct = ColumnTransformer(transformers=[('encoder', OneHotEncoder(), [1])], remainder='passthrough')\n",
        "# Drop one dummy variable to avoid Dummy Variable Trap\n",
        "x = np.array(ct.fit_transform(x))\n",
        "x = x[:, 1:]"
      ],
      "execution_count": null,
      "outputs": []
    },
    {
      "cell_type": "markdown",
      "metadata": {
        "id": "wUVMLIVD7xHu"
      },
      "source": [
        "Splitting the Dataset"
      ]
    },
    {
      "cell_type": "code",
      "metadata": {
        "id": "oTKS8hvF7h0r"
      },
      "source": [
        "from sklearn.model_selection import train_test_split\n",
        "x_train, x_test, y_train, y_test = train_test_split(x, y, test_size = 0.2, random_state = 0)"
      ],
      "execution_count": null,
      "outputs": []
    },
    {
      "cell_type": "markdown",
      "metadata": {
        "id": "cIjD9FBjA3L6"
      },
      "source": [
        "Feature Scaling"
      ]
    },
    {
      "cell_type": "code",
      "metadata": {
        "id": "TV8SxwgoArK9"
      },
      "source": [
        "# Ease calculations resources\n",
        "from sklearn.preprocessing import StandardScaler\n",
        "scaler = StandardScaler()\n",
        "x_train = scaler.fit_transform(x_train)\n",
        "x_test = scaler.transform(x_test)"
      ],
      "execution_count": null,
      "outputs": []
    },
    {
      "cell_type": "markdown",
      "metadata": {
        "id": "fLei4ZyXRNfv"
      },
      "source": [
        "**Activation Function**"
      ]
    },
    {
      "cell_type": "markdown",
      "metadata": {
        "id": "89HA2uswRQnd"
      },
      "source": [
        "Either `Rectifier (Relu)` or `Sigmoid` is good because the target is in binary and both of the functions gave the results ranging between 0 and 1. The difference is Relu gives `just 0 or 1`, but Sigmoid gives value similar to the `probability` of the events (continuous value between 0 and 1)"
      ]
    },
    {
      "cell_type": "markdown",
      "metadata": {
        "id": "gZaaQ-xcB06a"
      },
      "source": [
        "Initializing Artificial Neural Networks"
      ]
    },
    {
      "cell_type": "code",
      "metadata": {
        "id": "-i2ZY3hlByNw"
      },
      "source": [
        "classifier = Sequential()"
      ],
      "execution_count": null,
      "outputs": []
    },
    {
      "cell_type": "markdown",
      "metadata": {
        "id": "-EyYb4laCwdk"
      },
      "source": [
        "Adding Input Layer"
      ]
    },
    {
      "cell_type": "code",
      "metadata": {
        "id": "QJJxniUDCu51"
      },
      "source": [
        "classifier.add(Dense(units=6, activation='relu', kernel_initializer='uniform', input_dim = 11))"
      ],
      "execution_count": null,
      "outputs": []
    },
    {
      "cell_type": "markdown",
      "metadata": {
        "id": "fJMW1WwgPllo"
      },
      "source": [
        "Hidden Layers"
      ]
    },
    {
      "cell_type": "code",
      "metadata": {
        "id": "-o1Ty2s9PLmy"
      },
      "source": [
        "classifier.add(Dense(units=6, activation='relu', kernel_initializer='uniform'))"
      ],
      "execution_count": null,
      "outputs": []
    },
    {
      "cell_type": "markdown",
      "metadata": {
        "id": "gTsaPYmMRKBD"
      },
      "source": [
        "Output Layers"
      ]
    },
    {
      "cell_type": "code",
      "metadata": {
        "id": "u8wkRMllQhZo"
      },
      "source": [
        "classifier.add(Dense(units=1, activation='sigmoid', kernel_initializer='uniform'))"
      ],
      "execution_count": null,
      "outputs": []
    },
    {
      "cell_type": "markdown",
      "metadata": {
        "id": "spaW31TjR02K"
      },
      "source": [
        "Compile the ANN"
      ]
    },
    {
      "cell_type": "code",
      "metadata": {
        "id": "zBcKQOtFR2SO"
      },
      "source": [
        "# Similar to applying gradiant descent to all the layers\n",
        "classifier.compile(optimizer=\"adam\", loss=\"binary_crossentropy\", metrics=['accuracy'])"
      ],
      "execution_count": null,
      "outputs": []
    },
    {
      "cell_type": "markdown",
      "metadata": {
        "id": "pHIlMyCCTC88"
      },
      "source": [
        "Fit the ANN to the Training Set"
      ]
    },
    {
      "cell_type": "code",
      "metadata": {
        "colab": {
          "base_uri": "https://localhost:8080/"
        },
        "id": "L44HkW8kTCt_",
        "outputId": "e69039bc-6249-4287-b832-f7779d0d8b37"
      },
      "source": [
        "classifier.fit(x_train, y_train, batch_size=10, epochs=100)"
      ],
      "execution_count": null,
      "outputs": [
        {
          "output_type": "stream",
          "text": [
            "Epoch 1/100\n",
            "800/800 [==============================] - 1s 715us/step - loss: 0.5710 - accuracy: 0.7970\n",
            "Epoch 2/100\n",
            "800/800 [==============================] - 1s 752us/step - loss: 0.4259 - accuracy: 0.7974\n",
            "Epoch 3/100\n",
            "800/800 [==============================] - 1s 772us/step - loss: 0.4282 - accuracy: 0.8040\n",
            "Epoch 4/100\n",
            "800/800 [==============================] - 1s 769us/step - loss: 0.4143 - accuracy: 0.8256\n",
            "Epoch 5/100\n",
            "800/800 [==============================] - 1s 743us/step - loss: 0.4128 - accuracy: 0.8347\n",
            "Epoch 6/100\n",
            "800/800 [==============================] - 1s 765us/step - loss: 0.4026 - accuracy: 0.8364\n",
            "Epoch 7/100\n",
            "800/800 [==============================] - 1s 722us/step - loss: 0.4102 - accuracy: 0.8338\n",
            "Epoch 8/100\n",
            "800/800 [==============================] - 1s 683us/step - loss: 0.4052 - accuracy: 0.8346\n",
            "Epoch 9/100\n",
            "800/800 [==============================] - 1s 741us/step - loss: 0.4155 - accuracy: 0.8283\n",
            "Epoch 10/100\n",
            "800/800 [==============================] - 1s 720us/step - loss: 0.3979 - accuracy: 0.8392\n",
            "Epoch 11/100\n",
            "800/800 [==============================] - 1s 726us/step - loss: 0.3933 - accuracy: 0.8416\n",
            "Epoch 12/100\n",
            "800/800 [==============================] - 1s 721us/step - loss: 0.3852 - accuracy: 0.8444\n",
            "Epoch 13/100\n",
            "800/800 [==============================] - 1s 770us/step - loss: 0.4050 - accuracy: 0.8298\n",
            "Epoch 14/100\n",
            "800/800 [==============================] - 1s 735us/step - loss: 0.3888 - accuracy: 0.8387\n",
            "Epoch 15/100\n",
            "800/800 [==============================] - 1s 727us/step - loss: 0.3976 - accuracy: 0.8327\n",
            "Epoch 16/100\n",
            "800/800 [==============================] - 1s 745us/step - loss: 0.4067 - accuracy: 0.8278\n",
            "Epoch 17/100\n",
            "800/800 [==============================] - 1s 798us/step - loss: 0.3990 - accuracy: 0.8391\n",
            "Epoch 18/100\n",
            "800/800 [==============================] - 1s 743us/step - loss: 0.3946 - accuracy: 0.8373\n",
            "Epoch 19/100\n",
            "800/800 [==============================] - 1s 770us/step - loss: 0.3999 - accuracy: 0.8338\n",
            "Epoch 20/100\n",
            "800/800 [==============================] - 1s 749us/step - loss: 0.3854 - accuracy: 0.8396\n",
            "Epoch 21/100\n",
            "800/800 [==============================] - 1s 765us/step - loss: 0.3959 - accuracy: 0.8357\n",
            "Epoch 22/100\n",
            "800/800 [==============================] - 1s 713us/step - loss: 0.3850 - accuracy: 0.8398\n",
            "Epoch 23/100\n",
            "800/800 [==============================] - 1s 729us/step - loss: 0.3872 - accuracy: 0.8435\n",
            "Epoch 24/100\n",
            "800/800 [==============================] - 1s 747us/step - loss: 0.3903 - accuracy: 0.8349\n",
            "Epoch 25/100\n",
            "800/800 [==============================] - 1s 732us/step - loss: 0.3895 - accuracy: 0.8402\n",
            "Epoch 26/100\n",
            "800/800 [==============================] - 1s 786us/step - loss: 0.3842 - accuracy: 0.8396\n",
            "Epoch 27/100\n",
            "800/800 [==============================] - 1s 719us/step - loss: 0.3803 - accuracy: 0.8410\n",
            "Epoch 28/100\n",
            "800/800 [==============================] - 1s 740us/step - loss: 0.3816 - accuracy: 0.8416\n",
            "Epoch 29/100\n",
            "800/800 [==============================] - 1s 752us/step - loss: 0.3684 - accuracy: 0.8475\n",
            "Epoch 30/100\n",
            "800/800 [==============================] - 1s 731us/step - loss: 0.3777 - accuracy: 0.8443\n",
            "Epoch 31/100\n",
            "800/800 [==============================] - 1s 754us/step - loss: 0.3682 - accuracy: 0.8511\n",
            "Epoch 32/100\n",
            "800/800 [==============================] - 1s 733us/step - loss: 0.3606 - accuracy: 0.8503\n",
            "Epoch 33/100\n",
            "800/800 [==============================] - 1s 723us/step - loss: 0.3556 - accuracy: 0.8468\n",
            "Epoch 34/100\n",
            "800/800 [==============================] - 1s 736us/step - loss: 0.3467 - accuracy: 0.8626\n",
            "Epoch 35/100\n",
            "800/800 [==============================] - 1s 729us/step - loss: 0.3583 - accuracy: 0.8586\n",
            "Epoch 36/100\n",
            "800/800 [==============================] - 1s 746us/step - loss: 0.3580 - accuracy: 0.8579\n",
            "Epoch 37/100\n",
            "800/800 [==============================] - 1s 722us/step - loss: 0.3511 - accuracy: 0.8591\n",
            "Epoch 38/100\n",
            "800/800 [==============================] - 1s 743us/step - loss: 0.3633 - accuracy: 0.8518\n",
            "Epoch 39/100\n",
            "800/800 [==============================] - 1s 754us/step - loss: 0.3510 - accuracy: 0.8594\n",
            "Epoch 40/100\n",
            "800/800 [==============================] - 1s 773us/step - loss: 0.3572 - accuracy: 0.8550\n",
            "Epoch 41/100\n",
            "800/800 [==============================] - 1s 797us/step - loss: 0.3534 - accuracy: 0.8551\n",
            "Epoch 42/100\n",
            "800/800 [==============================] - 1s 738us/step - loss: 0.3458 - accuracy: 0.8590\n",
            "Epoch 43/100\n",
            "800/800 [==============================] - 1s 778us/step - loss: 0.3602 - accuracy: 0.8512\n",
            "Epoch 44/100\n",
            "800/800 [==============================] - 1s 795us/step - loss: 0.3479 - accuracy: 0.8619\n",
            "Epoch 45/100\n",
            "800/800 [==============================] - 1s 718us/step - loss: 0.3487 - accuracy: 0.8556\n",
            "Epoch 46/100\n",
            "800/800 [==============================] - 1s 752us/step - loss: 0.3453 - accuracy: 0.8593\n",
            "Epoch 47/100\n",
            "800/800 [==============================] - 1s 751us/step - loss: 0.3497 - accuracy: 0.8577\n",
            "Epoch 48/100\n",
            "800/800 [==============================] - 1s 764us/step - loss: 0.3455 - accuracy: 0.8606\n",
            "Epoch 49/100\n",
            "800/800 [==============================] - 1s 773us/step - loss: 0.3447 - accuracy: 0.8562\n",
            "Epoch 50/100\n",
            "800/800 [==============================] - 1s 735us/step - loss: 0.3530 - accuracy: 0.8508\n",
            "Epoch 51/100\n",
            "800/800 [==============================] - 1s 745us/step - loss: 0.3426 - accuracy: 0.8624\n",
            "Epoch 52/100\n",
            "800/800 [==============================] - 1s 740us/step - loss: 0.3425 - accuracy: 0.8606\n",
            "Epoch 53/100\n",
            "800/800 [==============================] - 1s 736us/step - loss: 0.3453 - accuracy: 0.8590\n",
            "Epoch 54/100\n",
            "800/800 [==============================] - 1s 740us/step - loss: 0.3453 - accuracy: 0.8542\n",
            "Epoch 55/100\n",
            "800/800 [==============================] - 1s 737us/step - loss: 0.3454 - accuracy: 0.8542\n",
            "Epoch 56/100\n",
            "800/800 [==============================] - 1s 733us/step - loss: 0.3477 - accuracy: 0.8577\n",
            "Epoch 57/100\n",
            "800/800 [==============================] - 1s 716us/step - loss: 0.3487 - accuracy: 0.8586\n",
            "Epoch 58/100\n",
            "800/800 [==============================] - 1s 738us/step - loss: 0.3468 - accuracy: 0.8582\n",
            "Epoch 59/100\n",
            "800/800 [==============================] - 1s 731us/step - loss: 0.3364 - accuracy: 0.8596\n",
            "Epoch 60/100\n",
            "800/800 [==============================] - 1s 741us/step - loss: 0.3494 - accuracy: 0.8580\n",
            "Epoch 61/100\n",
            "800/800 [==============================] - 1s 756us/step - loss: 0.3329 - accuracy: 0.8660\n",
            "Epoch 62/100\n",
            "800/800 [==============================] - 1s 728us/step - loss: 0.3509 - accuracy: 0.8595\n",
            "Epoch 63/100\n",
            "800/800 [==============================] - 1s 773us/step - loss: 0.3524 - accuracy: 0.8555\n",
            "Epoch 64/100\n",
            "800/800 [==============================] - 1s 745us/step - loss: 0.3446 - accuracy: 0.8561\n",
            "Epoch 65/100\n",
            "800/800 [==============================] - 1s 728us/step - loss: 0.3410 - accuracy: 0.8585\n",
            "Epoch 66/100\n",
            "800/800 [==============================] - 1s 780us/step - loss: 0.3386 - accuracy: 0.8675\n",
            "Epoch 67/100\n",
            "800/800 [==============================] - 1s 789us/step - loss: 0.3434 - accuracy: 0.8575\n",
            "Epoch 68/100\n",
            "800/800 [==============================] - 1s 756us/step - loss: 0.3453 - accuracy: 0.8629\n",
            "Epoch 69/100\n",
            "800/800 [==============================] - 1s 735us/step - loss: 0.3517 - accuracy: 0.8508\n",
            "Epoch 70/100\n",
            "800/800 [==============================] - 1s 754us/step - loss: 0.3461 - accuracy: 0.8591\n",
            "Epoch 71/100\n",
            "800/800 [==============================] - 1s 735us/step - loss: 0.3440 - accuracy: 0.8592\n",
            "Epoch 72/100\n",
            "800/800 [==============================] - 1s 745us/step - loss: 0.3344 - accuracy: 0.8647\n",
            "Epoch 73/100\n",
            "800/800 [==============================] - 1s 728us/step - loss: 0.3515 - accuracy: 0.8529\n",
            "Epoch 74/100\n",
            "800/800 [==============================] - 1s 747us/step - loss: 0.3364 - accuracy: 0.8604\n",
            "Epoch 75/100\n",
            "800/800 [==============================] - 1s 747us/step - loss: 0.3511 - accuracy: 0.8554\n",
            "Epoch 76/100\n",
            "800/800 [==============================] - 1s 761us/step - loss: 0.3340 - accuracy: 0.8577\n",
            "Epoch 77/100\n",
            "800/800 [==============================] - 1s 741us/step - loss: 0.3549 - accuracy: 0.8569\n",
            "Epoch 78/100\n",
            "800/800 [==============================] - 1s 742us/step - loss: 0.3405 - accuracy: 0.8625\n",
            "Epoch 79/100\n",
            "800/800 [==============================] - 1s 740us/step - loss: 0.3480 - accuracy: 0.8563\n",
            "Epoch 80/100\n",
            "800/800 [==============================] - 1s 778us/step - loss: 0.3402 - accuracy: 0.8609\n",
            "Epoch 81/100\n",
            "800/800 [==============================] - 1s 764us/step - loss: 0.3250 - accuracy: 0.8684\n",
            "Epoch 82/100\n",
            "800/800 [==============================] - 1s 783us/step - loss: 0.3405 - accuracy: 0.8625\n",
            "Epoch 83/100\n",
            "800/800 [==============================] - 1s 756us/step - loss: 0.3497 - accuracy: 0.8560\n",
            "Epoch 84/100\n",
            "800/800 [==============================] - 1s 718us/step - loss: 0.3394 - accuracy: 0.8625\n",
            "Epoch 85/100\n",
            "800/800 [==============================] - 1s 750us/step - loss: 0.3378 - accuracy: 0.8574\n",
            "Epoch 86/100\n",
            "800/800 [==============================] - 1s 771us/step - loss: 0.3320 - accuracy: 0.8663\n",
            "Epoch 87/100\n",
            "800/800 [==============================] - 1s 740us/step - loss: 0.3482 - accuracy: 0.8558\n",
            "Epoch 88/100\n",
            "800/800 [==============================] - 1s 782us/step - loss: 0.3403 - accuracy: 0.8605\n",
            "Epoch 89/100\n",
            "800/800 [==============================] - 1s 746us/step - loss: 0.3531 - accuracy: 0.8546\n",
            "Epoch 90/100\n",
            "800/800 [==============================] - 1s 746us/step - loss: 0.3484 - accuracy: 0.8557\n",
            "Epoch 91/100\n",
            "800/800 [==============================] - 1s 744us/step - loss: 0.3425 - accuracy: 0.8565\n",
            "Epoch 92/100\n",
            "800/800 [==============================] - 1s 779us/step - loss: 0.3456 - accuracy: 0.8587\n",
            "Epoch 93/100\n",
            "800/800 [==============================] - 1s 774us/step - loss: 0.3482 - accuracy: 0.8525\n",
            "Epoch 94/100\n",
            "800/800 [==============================] - 1s 746us/step - loss: 0.3502 - accuracy: 0.8584\n",
            "Epoch 95/100\n",
            "800/800 [==============================] - 1s 756us/step - loss: 0.3392 - accuracy: 0.8625\n",
            "Epoch 96/100\n",
            "800/800 [==============================] - 1s 778us/step - loss: 0.3464 - accuracy: 0.8580\n",
            "Epoch 97/100\n",
            "800/800 [==============================] - 1s 704us/step - loss: 0.3390 - accuracy: 0.8632\n",
            "Epoch 98/100\n",
            "800/800 [==============================] - 1s 755us/step - loss: 0.3405 - accuracy: 0.8628\n",
            "Epoch 99/100\n",
            "800/800 [==============================] - 1s 750us/step - loss: 0.3426 - accuracy: 0.8569\n",
            "Epoch 100/100\n",
            "800/800 [==============================] - 1s 750us/step - loss: 0.3366 - accuracy: 0.8563\n"
          ],
          "name": "stdout"
        },
        {
          "output_type": "execute_result",
          "data": {
            "text/plain": [
              "<tensorflow.python.keras.callbacks.History at 0x7f85015d2150>"
            ]
          },
          "metadata": {
            "tags": []
          },
          "execution_count": 15
        }
      ]
    },
    {
      "cell_type": "markdown",
      "metadata": {
        "id": "-lC85FGoV2Tb"
      },
      "source": [
        "Predict the Test Set"
      ]
    },
    {
      "cell_type": "code",
      "metadata": {
        "id": "EeYuOQ9lTlYW"
      },
      "source": [
        "# Predict the x_test set\n",
        "# Because it is in probability, translate it to boolean\n",
        "pred = classifier.predict(x_test)\n",
        "pred = (pred > 0.5)\n",
        "\n",
        "# Show the Confusion Matrix\n",
        "from sklearn.metrics import confusion_matrix\n",
        "cm = confusion_matrix(y_test, pred)"
      ],
      "execution_count": null,
      "outputs": []
    },
    {
      "cell_type": "markdown",
      "metadata": {
        "id": "IhJv_RKUW5Kb"
      },
      "source": [
        "Predict A Single Data"
      ]
    },
    {
      "cell_type": "markdown",
      "metadata": {
        "id": "rnc5aNdGXEpS"
      },
      "source": [
        "Customer Informations:\n",
        "\n",
        "* Geography: France\n",
        "* Credit Score: 600\n",
        "* Gender: Male\n",
        "* Age: 40\n",
        "* Tenure: 3\n",
        "* Balance: 60000\n",
        "* Number of Products: 2\n",
        "* Has Credit Card: Yes\n",
        "* Is Active Member: Yes\n",
        "* Estimated Salary: 50000"
      ]
    },
    {
      "cell_type": "code",
      "metadata": {
        "colab": {
          "base_uri": "https://localhost:8080/"
        },
        "id": "XYCJ2nW8W9Fx",
        "outputId": "3d616390-cade-4ef1-f038-0d0d3e3af48a"
      },
      "source": [
        "# Double bracket as a symbol of row and columns of a matrix\n",
        "# Scale the input as well just like when the training happens\n",
        "single_pred = classifier.predict(scaler.transform(np.array([[0.0, 0, 600, 1, 40, 3, 60000, 2, 1, 1, 50000]])))\n",
        "if(single_pred > 0.5):\n",
        "  print(\"The customer will leave the bank.\")\n",
        "else:\n",
        "  print(\"The customer will stay.\")"
      ],
      "execution_count": null,
      "outputs": [
        {
          "output_type": "stream",
          "text": [
            "The customer will stay.\n"
          ],
          "name": "stdout"
        }
      ]
    }
  ]
}