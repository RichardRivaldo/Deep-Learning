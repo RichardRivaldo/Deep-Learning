{
  "nbformat": 4,
  "nbformat_minor": 0,
  "metadata": {
    "colab": {
      "name": "Recurrent Neural Networks.ipynb",
      "provenance": [],
      "toc_visible": true
    },
    "kernelspec": {
      "name": "python3",
      "display_name": "Python 3"
    },
    "language_info": {
      "name": "python"
    }
  },
  "cells": [
    {
      "cell_type": "markdown",
      "metadata": {
        "id": "ZulUEpzHl5yt"
      },
      "source": [
        "Libraries"
      ]
    },
    {
      "cell_type": "code",
      "metadata": {
        "id": "PacHbMvrlXaZ"
      },
      "source": [
        "import numpy as np\n",
        "import pandas as pd\n",
        "import matplotlib.pyplot as plt\n",
        "from sklearn.preprocessing import MinMaxScaler"
      ],
      "execution_count": null,
      "outputs": []
    },
    {
      "cell_type": "markdown",
      "metadata": {
        "id": "aTn77L9Ir2yH"
      },
      "source": [
        "RNN"
      ]
    },
    {
      "cell_type": "code",
      "metadata": {
        "id": "r9J6vlB-r3j2"
      },
      "source": [
        "from keras.models import Sequential\n",
        "from keras.layers import Dense\n",
        "from keras.layers import Dropout\n",
        "from keras.layers import LSTM"
      ],
      "execution_count": null,
      "outputs": []
    },
    {
      "cell_type": "markdown",
      "metadata": {
        "id": "F82GnviKmEPS"
      },
      "source": [
        "# Data Preprocessing"
      ]
    },
    {
      "cell_type": "markdown",
      "metadata": {
        "id": "qDv5iycJmF1X"
      },
      "source": [
        "Reading the Training Dataset"
      ]
    },
    {
      "cell_type": "code",
      "metadata": {
        "id": "s6ce7pOvmKJb"
      },
      "source": [
        "training_dataset = pd.read_csv(\"Google_Stock_Price_Train.csv\")"
      ],
      "execution_count": null,
      "outputs": []
    },
    {
      "cell_type": "markdown",
      "metadata": {
        "id": "fiZR1OmQmdl2"
      },
      "source": [
        "Filter the Features and Convert the Training Set to Numpy"
      ]
    },
    {
      "cell_type": "code",
      "metadata": {
        "id": "07rc8jM7miSw"
      },
      "source": [
        "training = training_dataset.iloc[:, 1:2].values"
      ],
      "execution_count": null,
      "outputs": []
    },
    {
      "cell_type": "markdown",
      "metadata": {
        "id": "1JlgOhDDmWk-"
      },
      "source": [
        "Feature Scaling"
      ]
    },
    {
      "cell_type": "code",
      "metadata": {
        "id": "rmdeE60wnTa7"
      },
      "source": [
        "# Use normalization from MinMaxScaler\n",
        "# Feature Range -> The range of the output, 0 - 1\n",
        "scaler = MinMaxScaler(feature_range = (0, 1))\n",
        "scaled_training = scaler.fit_transform(training)"
      ],
      "execution_count": null,
      "outputs": []
    },
    {
      "cell_type": "markdown",
      "metadata": {
        "id": "WLrmntG3n_Lp"
      },
      "source": [
        "# Creating Timesteps for the RNN"
      ]
    },
    {
      "cell_type": "markdown",
      "metadata": {
        "id": "_KG8n87woC5S"
      },
      "source": [
        "Creating the Data Structures"
      ]
    },
    {
      "cell_type": "code",
      "metadata": {
        "id": "jU2y80oioPxr"
      },
      "source": [
        "# Use 60 transactions (t - 60) to predict the next transaction (t + 1)  \n",
        "x_train = []\n",
        "y_train = []"
      ],
      "execution_count": null,
      "outputs": []
    },
    {
      "cell_type": "code",
      "metadata": {
        "id": "7gyq2TqHoYia"
      },
      "source": [
        "for i in range(60, 1258):\n",
        "  x_train.append(scaled_training[i - 60: i, 0])\n",
        "  y_train.append(scaled_training[i, 0])\n",
        "x_train, y_train = np.array(x_train), np.array(y_train)"
      ],
      "execution_count": null,
      "outputs": []
    },
    {
      "cell_type": "markdown",
      "metadata": {
        "id": "OkhRra73qZ9S"
      },
      "source": [
        "# Reshape the Data Structure"
      ]
    },
    {
      "cell_type": "markdown",
      "metadata": {
        "id": "mzCVntzJqdy4"
      },
      "source": [
        "Reshape"
      ]
    },
    {
      "cell_type": "code",
      "metadata": {
        "id": "e9oVr5m-qfGH"
      },
      "source": [
        "# Shape of the dataset, which is the number of rows + timesteps (the number of columns)\n",
        "# The number of predictors used in the predictions\n",
        "x_train = np.reshape(x_train, (x_train.shape[0], x_train.shape[1], 1))"
      ],
      "execution_count": null,
      "outputs": []
    },
    {
      "cell_type": "markdown",
      "metadata": {
        "id": "7k4KppdDrs7K"
      },
      "source": [
        "# Creating the RNN"
      ]
    },
    {
      "cell_type": "markdown",
      "metadata": {
        "id": "r7XJOqDXsCZT"
      },
      "source": [
        "Initializing the RNN"
      ]
    },
    {
      "cell_type": "code",
      "metadata": {
        "id": "gh23eDdBsE89"
      },
      "source": [
        "regressor = Sequential()"
      ],
      "execution_count": null,
      "outputs": []
    },
    {
      "cell_type": "markdown",
      "metadata": {
        "id": "0I28qzNPsIH2"
      },
      "source": [
        "Adding LSTM Input Layers"
      ]
    },
    {
      "cell_type": "code",
      "metadata": {
        "id": "eUzHZ7S3sTXW"
      },
      "source": [
        "# Use dropout regularization to avoid overfitting\n",
        "# Units -> Number of cells in the LSTM\n",
        "# Return Sequences -> If Stacked LSTM, set to True, default False\n",
        "# Input Shape -> The shape of the input array\n",
        "regressor.add(LSTM(units = 50, return_sequences = True, input_shape = (x_train.shape[1], 1)))\n",
        "regressor.add(Dropout(0.2))"
      ],
      "execution_count": null,
      "outputs": []
    },
    {
      "cell_type": "markdown",
      "metadata": {
        "id": "MPvyLzJZt_ph"
      },
      "source": [
        "Adding Hidden Layers"
      ]
    },
    {
      "cell_type": "code",
      "metadata": {
        "id": "kEZqVmE_tbnW"
      },
      "source": [
        "# Second Stack\n",
        "regressor.add(LSTM(units = 50, return_sequences = True))\n",
        "regressor.add(Dropout(0.2))\n",
        "# Third Stack\n",
        "regressor.add(LSTM(units = 50, return_sequences = True))\n",
        "regressor.add(Dropout(0.2))\n",
        "# Fourth Stack\n",
        "# Set the last stack Return Sequences to False\n",
        "regressor.add(LSTM(units = 50))\n",
        "regressor.add(Dropout(0.2))"
      ],
      "execution_count": null,
      "outputs": []
    },
    {
      "cell_type": "markdown",
      "metadata": {
        "id": "m3NOo33WugdU"
      },
      "source": [
        "Adding the Output Layer"
      ]
    },
    {
      "cell_type": "code",
      "metadata": {
        "id": "juki2TYAuhzX"
      },
      "source": [
        "# Make fully-connected neurons\n",
        "# Only one output neuron\n",
        "regressor.add(Dense(units = 1))"
      ],
      "execution_count": null,
      "outputs": []
    },
    {
      "cell_type": "markdown",
      "metadata": {
        "id": "yCiVTa9du1nI"
      },
      "source": [
        "Compiling the RNN"
      ]
    },
    {
      "cell_type": "code",
      "metadata": {
        "id": "dRT45ekqu4y3"
      },
      "source": [
        "regressor.compile(optimizer = \"adam\", loss = \"mean_squared_error\")"
      ],
      "execution_count": null,
      "outputs": []
    },
    {
      "cell_type": "markdown",
      "metadata": {
        "id": "zaD5Dl-svGvt"
      },
      "source": [
        "# Training the RNN"
      ]
    },
    {
      "cell_type": "markdown",
      "metadata": {
        "id": "bG3ZSvScvIXY"
      },
      "source": [
        "Fit the Training Dataset"
      ]
    },
    {
      "cell_type": "code",
      "metadata": {
        "colab": {
          "base_uri": "https://localhost:8080/"
        },
        "id": "uEHzNgcivKy7",
        "outputId": "cbb5d4c0-e5eb-46c9-ea75-1a7874b0fea6"
      },
      "source": [
        "regressor.fit(x_train, y_train, epochs = 100, batch_size = 32)"
      ],
      "execution_count": null,
      "outputs": [
        {
          "output_type": "stream",
          "text": [
            "Epoch 1/100\n",
            "38/38 [==============================] - 10s 104ms/step - loss: 0.1029\n",
            "Epoch 2/100\n",
            "38/38 [==============================] - 4s 105ms/step - loss: 0.0075\n",
            "Epoch 3/100\n",
            "38/38 [==============================] - 4s 107ms/step - loss: 0.0066\n",
            "Epoch 4/100\n",
            "38/38 [==============================] - 4s 109ms/step - loss: 0.0059\n",
            "Epoch 5/100\n",
            "38/38 [==============================] - 4s 106ms/step - loss: 0.0049\n",
            "Epoch 6/100\n",
            "38/38 [==============================] - 4s 106ms/step - loss: 0.0044\n",
            "Epoch 7/100\n",
            "38/38 [==============================] - 4s 108ms/step - loss: 0.0048\n",
            "Epoch 8/100\n",
            "38/38 [==============================] - 4s 108ms/step - loss: 0.0047\n",
            "Epoch 9/100\n",
            "38/38 [==============================] - 4s 107ms/step - loss: 0.0044\n",
            "Epoch 10/100\n",
            "38/38 [==============================] - 4s 109ms/step - loss: 0.0038\n",
            "Epoch 11/100\n",
            "38/38 [==============================] - 4s 106ms/step - loss: 0.0044\n",
            "Epoch 12/100\n",
            "38/38 [==============================] - 4s 106ms/step - loss: 0.0039\n",
            "Epoch 13/100\n",
            "38/38 [==============================] - 4s 105ms/step - loss: 0.0044\n",
            "Epoch 14/100\n",
            "38/38 [==============================] - 4s 104ms/step - loss: 0.0040\n",
            "Epoch 15/100\n",
            "38/38 [==============================] - 4s 105ms/step - loss: 0.0038\n",
            "Epoch 16/100\n",
            "38/38 [==============================] - 4s 106ms/step - loss: 0.0036\n",
            "Epoch 17/100\n",
            "38/38 [==============================] - 4s 108ms/step - loss: 0.0038\n",
            "Epoch 18/100\n",
            "38/38 [==============================] - 4s 108ms/step - loss: 0.0036\n",
            "Epoch 19/100\n",
            "38/38 [==============================] - 4s 107ms/step - loss: 0.0034\n",
            "Epoch 20/100\n",
            "38/38 [==============================] - 4s 107ms/step - loss: 0.0038\n",
            "Epoch 21/100\n",
            "38/38 [==============================] - 4s 109ms/step - loss: 0.0035\n",
            "Epoch 22/100\n",
            "38/38 [==============================] - 4s 108ms/step - loss: 0.0032\n",
            "Epoch 23/100\n",
            "38/38 [==============================] - 4s 109ms/step - loss: 0.0035\n",
            "Epoch 24/100\n",
            "38/38 [==============================] - 4s 109ms/step - loss: 0.0033\n",
            "Epoch 25/100\n",
            "38/38 [==============================] - 4s 108ms/step - loss: 0.0030\n",
            "Epoch 26/100\n",
            "38/38 [==============================] - 4s 109ms/step - loss: 0.0029\n",
            "Epoch 27/100\n",
            "38/38 [==============================] - 4s 107ms/step - loss: 0.0032\n",
            "Epoch 28/100\n",
            "38/38 [==============================] - 4s 113ms/step - loss: 0.0025\n",
            "Epoch 29/100\n",
            "38/38 [==============================] - 4s 110ms/step - loss: 0.0030\n",
            "Epoch 30/100\n",
            "38/38 [==============================] - 4s 107ms/step - loss: 0.0029\n",
            "Epoch 31/100\n",
            "38/38 [==============================] - 4s 106ms/step - loss: 0.0027\n",
            "Epoch 32/100\n",
            "38/38 [==============================] - 4s 106ms/step - loss: 0.0031\n",
            "Epoch 33/100\n",
            "38/38 [==============================] - 4s 109ms/step - loss: 0.0036\n",
            "Epoch 34/100\n",
            "38/38 [==============================] - 4s 108ms/step - loss: 0.0029\n",
            "Epoch 35/100\n",
            "38/38 [==============================] - 4s 110ms/step - loss: 0.0033\n",
            "Epoch 36/100\n",
            "38/38 [==============================] - 4s 110ms/step - loss: 0.0028\n",
            "Epoch 37/100\n",
            "38/38 [==============================] - 4s 107ms/step - loss: 0.0028\n",
            "Epoch 38/100\n",
            "38/38 [==============================] - 4s 108ms/step - loss: 0.0029\n",
            "Epoch 39/100\n",
            "38/38 [==============================] - 4s 109ms/step - loss: 0.0029\n",
            "Epoch 40/100\n",
            "38/38 [==============================] - 4s 109ms/step - loss: 0.0025\n",
            "Epoch 41/100\n",
            "38/38 [==============================] - 4s 109ms/step - loss: 0.0026\n",
            "Epoch 42/100\n",
            "38/38 [==============================] - 4s 109ms/step - loss: 0.0029\n",
            "Epoch 43/100\n",
            "38/38 [==============================] - 4s 115ms/step - loss: 0.0024\n",
            "Epoch 44/100\n",
            "38/38 [==============================] - 4s 108ms/step - loss: 0.0029\n",
            "Epoch 45/100\n",
            "38/38 [==============================] - 4s 108ms/step - loss: 0.0025\n",
            "Epoch 46/100\n",
            "38/38 [==============================] - 4s 111ms/step - loss: 0.0028\n",
            "Epoch 47/100\n",
            "38/38 [==============================] - 4s 109ms/step - loss: 0.0023\n",
            "Epoch 48/100\n",
            "38/38 [==============================] - 4s 110ms/step - loss: 0.0026\n",
            "Epoch 49/100\n",
            "38/38 [==============================] - 4s 108ms/step - loss: 0.0028\n",
            "Epoch 50/100\n",
            "38/38 [==============================] - 4s 110ms/step - loss: 0.0020\n",
            "Epoch 51/100\n",
            "38/38 [==============================] - 4s 110ms/step - loss: 0.0024\n",
            "Epoch 52/100\n",
            "38/38 [==============================] - 4s 109ms/step - loss: 0.0022\n",
            "Epoch 53/100\n",
            "38/38 [==============================] - 4s 109ms/step - loss: 0.0022\n",
            "Epoch 54/100\n",
            "38/38 [==============================] - 4s 110ms/step - loss: 0.0021\n",
            "Epoch 55/100\n",
            "38/38 [==============================] - 4s 111ms/step - loss: 0.0022\n",
            "Epoch 56/100\n",
            "38/38 [==============================] - 4s 108ms/step - loss: 0.0020\n",
            "Epoch 57/100\n",
            "38/38 [==============================] - 4s 112ms/step - loss: 0.0023\n",
            "Epoch 58/100\n",
            "38/38 [==============================] - 4s 110ms/step - loss: 0.0020\n",
            "Epoch 59/100\n",
            "38/38 [==============================] - 4s 116ms/step - loss: 0.0023\n",
            "Epoch 60/100\n",
            "38/38 [==============================] - 4s 109ms/step - loss: 0.0021\n",
            "Epoch 61/100\n",
            "38/38 [==============================] - 4s 111ms/step - loss: 0.0021\n",
            "Epoch 62/100\n",
            "38/38 [==============================] - 4s 112ms/step - loss: 0.0018\n",
            "Epoch 63/100\n",
            "38/38 [==============================] - 4s 110ms/step - loss: 0.0019\n",
            "Epoch 64/100\n",
            "38/38 [==============================] - 4s 111ms/step - loss: 0.0022\n",
            "Epoch 65/100\n",
            "38/38 [==============================] - 4s 110ms/step - loss: 0.0020\n",
            "Epoch 66/100\n",
            "38/38 [==============================] - 4s 112ms/step - loss: 0.0019\n",
            "Epoch 67/100\n",
            "38/38 [==============================] - 4s 111ms/step - loss: 0.0022\n",
            "Epoch 68/100\n",
            "38/38 [==============================] - 4s 110ms/step - loss: 0.0018\n",
            "Epoch 69/100\n",
            "38/38 [==============================] - 4s 110ms/step - loss: 0.0019\n",
            "Epoch 70/100\n",
            "38/38 [==============================] - 4s 111ms/step - loss: 0.0017\n",
            "Epoch 71/100\n",
            "38/38 [==============================] - 4s 114ms/step - loss: 0.0021\n",
            "Epoch 72/100\n",
            "38/38 [==============================] - 4s 111ms/step - loss: 0.0016\n",
            "Epoch 73/100\n",
            "38/38 [==============================] - 4s 110ms/step - loss: 0.0019\n",
            "Epoch 74/100\n",
            "38/38 [==============================] - 4s 110ms/step - loss: 0.0020\n",
            "Epoch 75/100\n",
            "38/38 [==============================] - 4s 110ms/step - loss: 0.0016\n",
            "Epoch 76/100\n",
            "38/38 [==============================] - 4s 108ms/step - loss: 0.0018\n",
            "Epoch 77/100\n",
            "38/38 [==============================] - 4s 109ms/step - loss: 0.0017\n",
            "Epoch 78/100\n",
            "38/38 [==============================] - 4s 110ms/step - loss: 0.0018\n",
            "Epoch 79/100\n",
            "38/38 [==============================] - 4s 111ms/step - loss: 0.0013\n",
            "Epoch 80/100\n",
            "38/38 [==============================] - 4s 113ms/step - loss: 0.0014\n",
            "Epoch 81/100\n",
            "38/38 [==============================] - 4s 114ms/step - loss: 0.0018\n",
            "Epoch 82/100\n",
            "38/38 [==============================] - 4s 112ms/step - loss: 0.0017\n",
            "Epoch 83/100\n",
            "38/38 [==============================] - 4s 114ms/step - loss: 0.0021\n",
            "Epoch 84/100\n",
            "38/38 [==============================] - 4s 111ms/step - loss: 0.0018\n",
            "Epoch 85/100\n",
            "38/38 [==============================] - 4s 110ms/step - loss: 0.0014\n",
            "Epoch 86/100\n",
            "38/38 [==============================] - 4s 113ms/step - loss: 0.0016\n",
            "Epoch 87/100\n",
            "38/38 [==============================] - 4s 112ms/step - loss: 0.0018\n",
            "Epoch 88/100\n",
            "38/38 [==============================] - 4s 110ms/step - loss: 0.0017\n",
            "Epoch 89/100\n",
            "38/38 [==============================] - 4s 110ms/step - loss: 0.0017\n",
            "Epoch 90/100\n",
            "38/38 [==============================] - 4s 111ms/step - loss: 0.0016\n",
            "Epoch 91/100\n",
            "38/38 [==============================] - 4s 111ms/step - loss: 0.0015\n",
            "Epoch 92/100\n",
            "38/38 [==============================] - 4s 113ms/step - loss: 0.0017\n",
            "Epoch 93/100\n",
            "38/38 [==============================] - 4s 112ms/step - loss: 0.0017\n",
            "Epoch 94/100\n",
            "38/38 [==============================] - 4s 111ms/step - loss: 0.0015\n",
            "Epoch 95/100\n",
            "38/38 [==============================] - 4s 109ms/step - loss: 0.0016\n",
            "Epoch 96/100\n",
            "38/38 [==============================] - 4s 113ms/step - loss: 0.0016\n",
            "Epoch 97/100\n",
            "38/38 [==============================] - 4s 112ms/step - loss: 0.0015\n",
            "Epoch 98/100\n",
            "38/38 [==============================] - 4s 113ms/step - loss: 0.0014\n",
            "Epoch 99/100\n",
            "38/38 [==============================] - 4s 113ms/step - loss: 0.0015\n",
            "Epoch 100/100\n",
            "38/38 [==============================] - 4s 113ms/step - loss: 0.0014\n"
          ],
          "name": "stdout"
        },
        {
          "output_type": "execute_result",
          "data": {
            "text/plain": [
              "<tensorflow.python.keras.callbacks.History at 0x7f9665dea650>"
            ]
          },
          "metadata": {
            "tags": []
          },
          "execution_count": 14
        }
      ]
    },
    {
      "cell_type": "markdown",
      "metadata": {
        "id": "lcStkD1uvyU4"
      },
      "source": [
        "# Making Predictions"
      ]
    },
    {
      "cell_type": "markdown",
      "metadata": {
        "id": "Y8cxsCkJxN60"
      },
      "source": [
        "Load Test Dataset"
      ]
    },
    {
      "cell_type": "code",
      "metadata": {
        "id": "p7icN2KaxNQh"
      },
      "source": [
        "test_dataset = pd.read_csv(\"Google_Stock_Price_Test.csv\")\n",
        "real_prices = test_dataset.iloc[:, 1:2].values"
      ],
      "execution_count": null,
      "outputs": []
    },
    {
      "cell_type": "markdown",
      "metadata": {
        "id": "fpCWhAaQyhMN"
      },
      "source": [
        "Concat the Dataset"
      ]
    },
    {
      "cell_type": "code",
      "metadata": {
        "id": "p9_lk2nByjbY"
      },
      "source": [
        "all_dataset = pd.concat((training_dataset[\"Open\"], test_dataset[\"Open\"]), axis = 0)"
      ],
      "execution_count": null,
      "outputs": []
    },
    {
      "cell_type": "markdown",
      "metadata": {
        "id": "1CDUxK4P0-6J"
      },
      "source": [
        "Getting the Inputs"
      ]
    },
    {
      "cell_type": "code",
      "metadata": {
        "id": "e80mQN9DwbKI"
      },
      "source": [
        "# Getting Data inputs\n",
        "data_inputs = all_dataset[len(all_dataset) - len(test_dataset) - 60:].values\n",
        "# Scale the Data\n",
        "data_inputs = data_inputs.reshape(-1, 1)\n",
        "data_inputs = scaler.fit_transform(data_inputs)\n",
        "\n",
        "x_test = []\n",
        "for i in range(60, 80):\n",
        "  x_test.append(data_inputs[i - 60:i, 0])\n",
        "x_test = np.array(x_test)\n",
        "x_test = np.reshape(x_test, (x_test.shape[0], x_test.shape[1], 1))"
      ],
      "execution_count": null,
      "outputs": []
    },
    {
      "cell_type": "markdown",
      "metadata": {
        "id": "idSbtJC2v2Ov"
      },
      "source": [
        "Predict a Single Data"
      ]
    },
    {
      "cell_type": "code",
      "metadata": {
        "id": "EKZ3bWK31IiO"
      },
      "source": [
        "# Predict the Inputs\n",
        "predicted_prices = regressor.predict(x_test)\n",
        "# Reinverse the Scale\n",
        "predicted_prices = scaler.inverse_transform(predicted_prices)"
      ],
      "execution_count": null,
      "outputs": []
    },
    {
      "cell_type": "markdown",
      "metadata": {
        "id": "bYpnJBx_wWsJ"
      },
      "source": [
        "Visualize the Results"
      ]
    },
    {
      "cell_type": "code",
      "metadata": {
        "colab": {
          "base_uri": "https://localhost:8080/",
          "height": 54
        },
        "id": "fMwWr-c_1ptE",
        "outputId": "80b6fbb1-491e-4aa2-9cda-6a48c0f27a16"
      },
      "source": [
        "# Real Prices Graph\n",
        "plt.plot(real_prices, color = \"red\", label = \"Real Stock Prices\")\n",
        "plt.plot(predicted_prices, color = \"green\", label = \"Predicted Stock Prices\")\n",
        "plt.title(\"Real vs Predicted Stock Prices\")\n",
        "plt.xlabel(\"Time\")\n",
        "plt.ylabel(\"Prices\")\n",
        "plt.legend()\n",
        "plt.show()"
      ],
      "execution_count": null,
      "outputs": [
        {
          "output_type": "display_data",
          "data": {
            "image/png": "[encoded data removed]",
            "text/plain": [
              "<Figure size 432x288 with 1 Axes>"
            ]
          },
          "metadata": {
            "tags": [],
            "needs_background": "light"
          }
        }
      ]
    },
    {
      "cell_type": "markdown",
      "metadata": {
        "id": "E_Y9A9yW3naG"
      },
      "source": [
        "Notes"
      ]
    },
    {
      "cell_type": "code",
      "metadata": {
        "id": "YsbD0ZUV3pa2"
      },
      "source": [
        "# In the Classification Problem, when we tune the models, we used 'accuracy' as the metric.\n",
        "# In Regression Problem, instead of `accuracy`, we should use the `neg_mean_squared_error` metric."
      ],
      "execution_count": null,
      "outputs": []
    }
  ]
}