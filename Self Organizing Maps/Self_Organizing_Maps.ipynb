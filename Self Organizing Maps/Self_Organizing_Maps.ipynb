{
  "nbformat": 4,
  "nbformat_minor": 0,
  "metadata": {
    "colab": {
      "name": "Self Organizing Maps.ipynb",
      "provenance": [],
      "collapsed_sections": [
        "fscVa-MCkVaF"
      ]
    },
    "kernelspec": {
      "name": "python3",
      "display_name": "Python 3"
    },
    "language_info": {
      "name": "python"
    }
  },
  "cells": [
    {
      "cell_type": "markdown",
      "metadata": {
        "id": "tL7YHU2IbX45"
      },
      "source": [
        "The purpose of SOM is reducing dimensionality in the datasets, i.e. the amount of columns. SOM is an unsupervised learning algoritmh for Deep Learning."
      ]
    },
    {
      "cell_type": "markdown",
      "metadata": {
        "id": "iJ_FVnPzmqba"
      },
      "source": [
        "This SOM will be built on top of `Minisom`."
      ]
    },
    {
      "cell_type": "markdown",
      "metadata": {
        "id": "X_V4J4JFkPaO"
      },
      "source": [
        "Libraries"
      ]
    },
    {
      "cell_type": "code",
      "metadata": {
        "id": "FXTbPS6XbGrx"
      },
      "source": [
        "import numpy as np\n",
        "import pandas as pd\n",
        "from minisom import MiniSom\n",
        "import matplotlib.pyplot as plt\n",
        "from sklearn.preprocessing import MinMaxScaler\n",
        "from pylab import bone, pcolor, colorbar, plot, show"
      ],
      "execution_count": 1,
      "outputs": []
    },
    {
      "cell_type": "markdown",
      "metadata": {
        "id": "fscVa-MCkVaF"
      },
      "source": [
        "# Data Preprocessing"
      ]
    },
    {
      "cell_type": "markdown",
      "metadata": {
        "id": "uHO6jR4okhND"
      },
      "source": [
        "Reading the Dataset"
      ]
    },
    {
      "cell_type": "code",
      "metadata": {
        "id": "iQz9R7gukiIe"
      },
      "source": [
        "dataset = pd.read_csv(\"/content/Credit_Card_Applications.csv\")"
      ],
      "execution_count": 2,
      "outputs": []
    },
    {
      "cell_type": "markdown",
      "metadata": {
        "id": "KAhgwsWQlen9"
      },
      "source": [
        "Features and Target"
      ]
    },
    {
      "cell_type": "code",
      "metadata": {
        "id": "o4nJZgKVlgEE"
      },
      "source": [
        "x = dataset.iloc[:, :-1].values\n",
        "y = dataset.iloc[:, -1].values"
      ],
      "execution_count": 3,
      "outputs": []
    },
    {
      "cell_type": "markdown",
      "metadata": {
        "id": "azAG1SSxl2fa"
      },
      "source": [
        "Feature Scaling"
      ]
    },
    {
      "cell_type": "code",
      "metadata": {
        "id": "VVV2hsEvl3Ze"
      },
      "source": [
        "scaler = MinMaxScaler(feature_range = (0, 1))\n",
        "x = scaler.fit_transform(x)"
      ],
      "execution_count": 4,
      "outputs": []
    },
    {
      "cell_type": "markdown",
      "metadata": {
        "id": "uTSEuVYkmMMQ"
      },
      "source": [
        "# SOM Training"
      ]
    },
    {
      "cell_type": "markdown",
      "metadata": {
        "id": "sB1hQTZSnB0N"
      },
      "source": [
        "Create the SOM Object"
      ]
    },
    {
      "cell_type": "code",
      "metadata": {
        "id": "GlF1bSX0nDmw"
      },
      "source": [
        "# x, y -> The dimension of the map\n",
        "# input_len -> The input shape\n",
        "# sigma -> The radius of each neighbors\n",
        "# learning_rate -> How much the weights will be updated\n",
        "# There is also decay_functions and random_seed \n",
        "som = MiniSom(x = 10, y = 10, input_len = 15, sigma = 1.0, learning_rate = 0.5)"
      ],
      "execution_count": 5,
      "outputs": []
    },
    {
      "cell_type": "markdown",
      "metadata": {
        "id": "VSOInWE5n_xT"
      },
      "source": [
        "Initialize the Weight"
      ]
    },
    {
      "cell_type": "code",
      "metadata": {
        "id": "r-s8ofWgoA9E"
      },
      "source": [
        "som.random_weights_init(x)"
      ],
      "execution_count": 6,
      "outputs": []
    },
    {
      "cell_type": "markdown",
      "metadata": {
        "id": "wIYGJjVJoLS9"
      },
      "source": [
        "Train the SOM"
      ]
    },
    {
      "cell_type": "code",
      "metadata": {
        "id": "yD1PioPAmQHa"
      },
      "source": [
        "# Only use the x, without the y because it is an unsupervised algorithm\n",
        "som.train_random(data = x, num_iteration = 100)"
      ],
      "execution_count": 7,
      "outputs": []
    },
    {
      "cell_type": "markdown",
      "metadata": {
        "id": "cUw3m26Locs1"
      },
      "source": [
        "# Visualizing the SOM"
      ]
    },
    {
      "cell_type": "markdown",
      "metadata": {
        "id": "7MdMc-DYpcf4"
      },
      "source": [
        "Fraud Detection"
      ]
    },
    {
      "cell_type": "code",
      "metadata": {
        "id": "CoBHOqg9pecu"
      },
      "source": [
        "# We can identify frauds from the credits card by observing nodes that have highest MID\n",
        "# Basically, MID (Mean Interneuron Distance) are distances between neurons\n",
        "# If there are neurons with much more differences value with other neurons, then most likely it is a fraud\n",
        "# In this visualization, high MID will be determined by the whiter the color of each neurons are"
      ],
      "execution_count": 8,
      "outputs": []
    },
    {
      "cell_type": "code",
      "metadata": {
        "colab": {
          "base_uri": "https://localhost:8080/",
          "height": 269
        },
        "id": "djfFMqO9pCMy",
        "outputId": "80f37055-2015-4923-bf8c-6a0d41cec4b0"
      },
      "source": [
        "# Initialize the Window\n",
        "bone()\n",
        "\n",
        "# Putting the Neighboring Neurons\n",
        "pcolor(som.distance_map().T)\n",
        "\n",
        "# Adding Color Legends to the Chart\n",
        "colorbar()\n",
        "\n",
        "# Approval Markers\n",
        "markers = [\"o\", \"s\"]\n",
        "colors = [\"r\", \"g\"]\n",
        "\n",
        "# Associate Data to Markers\n",
        "# x, y in plot -> The position of the winning node\n",
        "\n",
        "for idx, features in enumerate(x):\n",
        "  w = som.winner(features)\n",
        "  plot(w[0] + 0.5,\n",
        "       w[1] + 0.5,\n",
        "       markers[y[idx]],\n",
        "       markeredgecolor = colors[y[idx]],\n",
        "       markerfacecolor = \"None\",\n",
        "       markersize = 10,\n",
        "       markeredgewidth = 2,\n",
        "       )\n",
        "\n",
        "# Show the Graph\n",
        "show()"
      ],
      "execution_count": 9,
      "outputs": [
        {
          "output_type": "display_data",
          "data": {
            "image/png": "[encoded data removed]",
            "text/plain": [
              "<Figure size 432x288 with 2 Axes>"
            ]
          },
          "metadata": {
            "tags": [],
            "needs_background": "light"
          }
        }
      ]
    },
    {
      "cell_type": "markdown",
      "metadata": {
        "id": "gsuLEQ1Cs1KD"
      },
      "source": [
        "# Get Specific Fraud Data"
      ]
    },
    {
      "cell_type": "markdown",
      "metadata": {
        "id": "f31g5D6is5sD"
      },
      "source": [
        "Get All Winning Nodes and Customers Mapping"
      ]
    },
    {
      "cell_type": "code",
      "metadata": {
        "id": "uIEcgsOotKbB"
      },
      "source": [
        "mappings = som.win_map(x)"
      ],
      "execution_count": 10,
      "outputs": []
    },
    {
      "cell_type": "markdown",
      "metadata": {
        "id": "AaXXRwHHtu8I"
      },
      "source": [
        "Get Lists of Fraud Customers"
      ]
    },
    {
      "cell_type": "code",
      "metadata": {
        "id": "d8HTryJ4txZ-"
      },
      "source": [
        "# Dangerous hard-coded code for the mappings\n",
        "frauds = np.concatenate((mappings[(8, 1)], mappings[(6, 8)]), axis = 0)"
      ],
      "execution_count": 11,
      "outputs": []
    },
    {
      "cell_type": "markdown",
      "metadata": {
        "id": "14X-bzS0uPXJ"
      },
      "source": [
        "Inverse Scaling the Transformed Data"
      ]
    },
    {
      "cell_type": "code",
      "metadata": {
        "id": "h039vE7VuQrk"
      },
      "source": [
        "frauds = scaler.inverse_transform(frauds)"
      ],
      "execution_count": 12,
      "outputs": []
    },
    {
      "cell_type": "code",
      "metadata": {
        "colab": {
          "base_uri": "https://localhost:8080/"
        },
        "id": "v5Va_dK0voYQ",
        "outputId": "cdb22409-9189-4058-a75b-9aca12bf1c2d"
      },
      "source": [
        "frauds"
      ],
      "execution_count": 13,
      "outputs": [
        {
          "output_type": "execute_result",
          "data": {
            "text/plain": [
              "array([[1.5704581e+07, 1.0000000e+00, 2.3750000e+01, 4.1500000e-01,\n",
              "        1.0000000e+00, 8.0000000e+00, 4.0000000e+00, 4.0000000e-02,\n",
              "        0.0000000e+00, 1.0000000e+00, 2.0000000e+00, 0.0000000e+00,\n",
              "        2.0000000e+00, 1.2800000e+02, 7.0000000e+00],\n",
              "       [1.5761854e+07, 1.0000000e+00, 3.1250000e+01, 2.8350000e+00,\n",
              "        2.0000000e+00, 1.0000000e+00, 1.0000000e+00, 0.0000000e+00,\n",
              "        0.0000000e+00, 1.0000000e+00, 5.0000000e+00, 0.0000000e+00,\n",
              "        2.0000000e+00, 1.7600000e+02, 1.4700000e+02],\n",
              "       [1.5725776e+07, 1.0000000e+00, 2.3080000e+01, 0.0000000e+00,\n",
              "        2.0000000e+00, 4.0000000e+00, 4.0000000e+00, 1.0000000e+00,\n",
              "        0.0000000e+00, 1.0000000e+00, 1.1000000e+01, 0.0000000e+00,\n",
              "        1.0000000e+00, 0.0000000e+00, 1.0000000e+00],\n",
              "       [1.5815040e+07, 1.0000000e+00, 1.9000000e+01, 0.0000000e+00,\n",
              "        1.0000000e+00, 1.0000000e+00, 1.0000000e+00, 0.0000000e+00,\n",
              "        0.0000000e+00, 1.0000000e+00, 4.0000000e+00, 0.0000000e+00,\n",
              "        2.0000000e+00, 4.5000000e+01, 2.0000000e+00],\n",
              "       [1.5697460e+07, 1.0000000e+00, 2.2000000e+01, 7.9000000e-01,\n",
              "        2.0000000e+00, 9.0000000e+00, 4.0000000e+00, 2.9000000e-01,\n",
              "        0.0000000e+00, 1.0000000e+00, 1.0000000e+00, 0.0000000e+00,\n",
              "        2.0000000e+00, 4.2000000e+02, 2.8400000e+02],\n",
              "       [1.5788442e+07, 1.0000000e+00, 1.9580000e+01, 5.8500000e-01,\n",
              "        2.0000000e+00, 1.0000000e+00, 1.0000000e+00, 0.0000000e+00,\n",
              "        0.0000000e+00, 1.0000000e+00, 3.0000000e+00, 0.0000000e+00,\n",
              "        2.0000000e+00, 3.5000000e+02, 7.7000000e+02],\n",
              "       [1.5737998e+07, 1.0000000e+00, 1.8830000e+01, 4.1500000e-01,\n",
              "        1.0000000e+00, 8.0000000e+00, 4.0000000e+00, 1.6500000e-01,\n",
              "        0.0000000e+00, 1.0000000e+00, 1.0000000e+00, 0.0000000e+00,\n",
              "        2.0000000e+00, 2.0000000e+02, 2.0000000e+00],\n",
              "       [1.5586183e+07, 1.0000000e+00, 1.7080000e+01, 2.5000000e-01,\n",
              "        2.0000000e+00, 1.1000000e+01, 4.0000000e+00, 3.3500000e-01,\n",
              "        0.0000000e+00, 1.0000000e+00, 4.0000000e+00, 0.0000000e+00,\n",
              "        2.0000000e+00, 1.6000000e+02, 9.0000000e+00],\n",
              "       [1.5718921e+07, 1.0000000e+00, 1.6330000e+01, 2.7500000e+00,\n",
              "        2.0000000e+00, 6.0000000e+00, 4.0000000e+00, 6.6500000e-01,\n",
              "        0.0000000e+00, 1.0000000e+00, 1.0000000e+00, 0.0000000e+00,\n",
              "        2.0000000e+00, 8.0000000e+01, 2.2000000e+01],\n",
              "       [1.5633944e+07, 1.0000000e+00, 3.1250000e+01, 1.1250000e+00,\n",
              "        2.0000000e+00, 1.0000000e+00, 1.0000000e+00, 0.0000000e+00,\n",
              "        0.0000000e+00, 1.0000000e+00, 1.0000000e+00, 0.0000000e+00,\n",
              "        2.0000000e+00, 9.6000000e+01, 2.0000000e+01],\n",
              "       [1.5607988e+07, 1.0000000e+00, 3.8420000e+01, 7.0500000e-01,\n",
              "        2.0000000e+00, 8.0000000e+00, 4.0000000e+00, 3.7500000e-01,\n",
              "        0.0000000e+00, 1.0000000e+00, 2.0000000e+00, 0.0000000e+00,\n",
              "        2.0000000e+00, 2.2500000e+02, 5.0100000e+02],\n",
              "       [1.5683993e+07, 1.0000000e+00, 1.6000000e+01, 3.1250000e+00,\n",
              "        2.0000000e+00, 9.0000000e+00, 4.0000000e+00, 8.5000000e-02,\n",
              "        0.0000000e+00, 1.0000000e+00, 1.0000000e+00, 0.0000000e+00,\n",
              "        2.0000000e+00, 0.0000000e+00, 7.0000000e+00],\n",
              "       [1.5797767e+07, 1.0000000e+00, 2.5170000e+01, 3.0000000e+00,\n",
              "        2.0000000e+00, 8.0000000e+00, 4.0000000e+00, 1.2500000e+00,\n",
              "        0.0000000e+00, 1.0000000e+00, 1.0000000e+00, 0.0000000e+00,\n",
              "        2.0000000e+00, 0.0000000e+00, 2.3000000e+01],\n",
              "       [1.5744044e+07, 1.0000000e+00, 2.3250000e+01, 1.2625000e+01,\n",
              "        2.0000000e+00, 8.0000000e+00, 4.0000000e+00, 1.2500000e-01,\n",
              "        0.0000000e+00, 1.0000000e+00, 2.0000000e+00, 0.0000000e+00,\n",
              "        2.0000000e+00, 0.0000000e+00, 5.5530000e+03],\n",
              "       [1.5632010e+07, 1.0000000e+00, 3.5750000e+01, 2.4150000e+00,\n",
              "        2.0000000e+00, 9.0000000e+00, 4.0000000e+00, 1.2500000e-01,\n",
              "        0.0000000e+00, 1.0000000e+00, 2.0000000e+00, 0.0000000e+00,\n",
              "        2.0000000e+00, 2.2000000e+02, 2.0000000e+00],\n",
              "       [1.5804235e+07, 1.0000000e+00, 2.9500000e+01, 5.8000000e-01,\n",
              "        2.0000000e+00, 9.0000000e+00, 4.0000000e+00, 2.9000000e-01,\n",
              "        0.0000000e+00, 1.0000000e+00, 1.0000000e+00, 0.0000000e+00,\n",
              "        2.0000000e+00, 3.4000000e+02, 2.8040000e+03],\n",
              "       [1.5627365e+07, 1.0000000e+00, 2.4420000e+01, 2.0000000e+00,\n",
              "        2.0000000e+00, 1.0000000e+01, 2.0000000e+00, 1.6500000e-01,\n",
              "        0.0000000e+00, 1.0000000e+00, 2.0000000e+00, 0.0000000e+00,\n",
              "        2.0000000e+00, 3.2000000e+02, 1.3010000e+03],\n",
              "       [1.5700300e+07, 1.0000000e+00, 1.7580000e+01, 1.0000000e+01,\n",
              "        2.0000000e+00, 9.0000000e+00, 8.0000000e+00, 1.6500000e-01,\n",
              "        0.0000000e+00, 1.0000000e+00, 1.0000000e+00, 0.0000000e+00,\n",
              "        2.0000000e+00, 1.2000000e+02, 2.0000000e+00],\n",
              "       [1.5791944e+07, 1.0000000e+00, 1.9420000e+01, 7.2500000e+00,\n",
              "        2.0000000e+00, 7.0000000e+00, 4.0000000e+00, 4.0000000e-02,\n",
              "        0.0000000e+00, 1.0000000e+00, 1.0000000e+00, 0.0000000e+00,\n",
              "        2.0000000e+00, 1.0000000e+02, 2.0000000e+00],\n",
              "       [1.5576680e+07, 1.0000000e+00, 2.4080000e+01, 8.7500000e-01,\n",
              "        2.0000000e+00, 7.0000000e+00, 4.0000000e+00, 8.5000000e-02,\n",
              "        0.0000000e+00, 1.0000000e+00, 4.0000000e+00, 0.0000000e+00,\n",
              "        2.0000000e+00, 2.5400000e+02, 1.9510000e+03],\n",
              "       [1.5620570e+07, 1.0000000e+00, 2.5420000e+01, 5.4000000e-01,\n",
              "        2.0000000e+00, 9.0000000e+00, 4.0000000e+00, 1.6500000e-01,\n",
              "        0.0000000e+00, 1.0000000e+00, 1.0000000e+00, 0.0000000e+00,\n",
              "        2.0000000e+00, 2.7200000e+02, 4.4500000e+02],\n",
              "       [1.5631685e+07, 1.0000000e+00, 2.3170000e+01, 0.0000000e+00,\n",
              "        2.0000000e+00, 1.3000000e+01, 4.0000000e+00, 8.5000000e-02,\n",
              "        1.0000000e+00, 0.0000000e+00, 0.0000000e+00, 0.0000000e+00,\n",
              "        2.0000000e+00, 0.0000000e+00, 1.0000000e+00],\n",
              "       [1.5649379e+07, 1.0000000e+00, 4.2750000e+01, 3.0000000e+00,\n",
              "        2.0000000e+00, 3.0000000e+00, 5.0000000e+00, 1.0000000e+00,\n",
              "        1.0000000e+00, 0.0000000e+00, 0.0000000e+00, 0.0000000e+00,\n",
              "        2.0000000e+00, 0.0000000e+00, 2.0100000e+02],\n",
              "       [1.5609823e+07, 1.0000000e+00, 2.8750000e+01, 1.1650000e+00,\n",
              "        2.0000000e+00, 4.0000000e+00, 4.0000000e+00, 5.0000000e-01,\n",
              "        1.0000000e+00, 0.0000000e+00, 0.0000000e+00, 0.0000000e+00,\n",
              "        1.0000000e+00, 2.8000000e+02, 1.0000000e+00],\n",
              "       [1.5614813e+07, 1.0000000e+00, 2.0250000e+01, 9.9600000e+00,\n",
              "        2.0000000e+00, 1.0000000e+01, 2.0000000e+00, 0.0000000e+00,\n",
              "        1.0000000e+00, 0.0000000e+00, 0.0000000e+00, 0.0000000e+00,\n",
              "        2.0000000e+00, 0.0000000e+00, 1.0000000e+00],\n",
              "       [1.5653147e+07, 1.0000000e+00, 1.6250000e+01, 8.3500000e-01,\n",
              "        2.0000000e+00, 7.0000000e+00, 4.0000000e+00, 8.5000000e-02,\n",
              "        1.0000000e+00, 0.0000000e+00, 0.0000000e+00, 0.0000000e+00,\n",
              "        1.0000000e+00, 2.0000000e+02, 1.0000000e+00],\n",
              "       [1.5589541e+07, 1.0000000e+00, 2.5750000e+01, 7.5000000e-01,\n",
              "        2.0000000e+00, 8.0000000e+00, 5.0000000e+00, 2.5000000e-01,\n",
              "        1.0000000e+00, 0.0000000e+00, 0.0000000e+00, 0.0000000e+00,\n",
              "        2.0000000e+00, 3.4900000e+02, 2.4000000e+01],\n",
              "       [1.5598574e+07, 1.0000000e+00, 1.9170000e+01, 9.5000000e+00,\n",
              "        2.0000000e+00, 9.0000000e+00, 4.0000000e+00, 1.5000000e+00,\n",
              "        1.0000000e+00, 0.0000000e+00, 0.0000000e+00, 0.0000000e+00,\n",
              "        2.0000000e+00, 1.2000000e+02, 2.2070000e+03]])"
            ]
          },
          "metadata": {
            "tags": []
          },
          "execution_count": 13
        }
      ]
    }
  ]
}