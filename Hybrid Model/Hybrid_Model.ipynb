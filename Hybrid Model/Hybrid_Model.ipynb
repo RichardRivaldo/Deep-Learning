{
  "nbformat": 4,
  "nbformat_minor": 0,
  "metadata": {
    "colab": {
      "name": "Hybrid_Model.ipynb",
      "provenance": []
    },
    "kernelspec": {
      "name": "python3",
      "display_name": "Python 3"
    },
    "language_info": {
      "name": "python"
    }
  },
  "cells": [
    {
      "cell_type": "markdown",
      "metadata": {
        "id": "X_V4J4JFkPaO"
      },
      "source": [
        "Libraries"
      ]
    },
    {
      "cell_type": "code",
      "metadata": {
        "id": "FXTbPS6XbGrx"
      },
      "source": [
        "import numpy as np\n",
        "import pandas as pd\n",
        "from minisom import MiniSom\n",
        "import matplotlib.pyplot as plt\n",
        "from sklearn.preprocessing import MinMaxScaler\n",
        "from pylab import bone, pcolor, colorbar, plot, show"
      ],
      "execution_count": 3,
      "outputs": []
    },
    {
      "cell_type": "code",
      "metadata": {
        "id": "3PzgWDiVCJOG"
      },
      "source": [
        "# Deep Learning Libraries\n",
        "import keras\n",
        "from keras.models import Sequential\n",
        "from keras.layers import Dense"
      ],
      "execution_count": 64,
      "outputs": []
    },
    {
      "cell_type": "markdown",
      "metadata": {
        "id": "JGZhPSbC7JB7"
      },
      "source": [
        "# Data Preprocessing "
      ]
    },
    {
      "cell_type": "markdown",
      "metadata": {
        "id": "uHO6jR4okhND"
      },
      "source": [
        "Reading the Dataset"
      ]
    },
    {
      "cell_type": "code",
      "metadata": {
        "id": "iQz9R7gukiIe"
      },
      "source": [
        "dataset = pd.read_csv(\"/content/Credit_Card_Applications.csv\")"
      ],
      "execution_count": 4,
      "outputs": []
    },
    {
      "cell_type": "markdown",
      "metadata": {
        "id": "KAhgwsWQlen9"
      },
      "source": [
        "Features and Target"
      ]
    },
    {
      "cell_type": "code",
      "metadata": {
        "id": "o4nJZgKVlgEE"
      },
      "source": [
        "x = dataset.iloc[:, :-1].values\n",
        "y = dataset.iloc[:, -1].values"
      ],
      "execution_count": 5,
      "outputs": []
    },
    {
      "cell_type": "markdown",
      "metadata": {
        "id": "azAG1SSxl2fa"
      },
      "source": [
        "Feature Scaling"
      ]
    },
    {
      "cell_type": "code",
      "metadata": {
        "id": "VVV2hsEvl3Ze"
      },
      "source": [
        "scaler = MinMaxScaler(feature_range = (0, 1))\n",
        "x = scaler.fit_transform(x)"
      ],
      "execution_count": 6,
      "outputs": []
    },
    {
      "cell_type": "markdown",
      "metadata": {
        "id": "z4duwPx-7MRf"
      },
      "source": [
        "# SOM Training"
      ]
    },
    {
      "cell_type": "markdown",
      "metadata": {
        "id": "sB1hQTZSnB0N"
      },
      "source": [
        "Create the SOM Object"
      ]
    },
    {
      "cell_type": "code",
      "metadata": {
        "id": "GlF1bSX0nDmw"
      },
      "source": [
        "# x, y -> The dimension of the map\n",
        "# input_len -> The input shape\n",
        "# sigma -> The radius of each neighbors\n",
        "# learning_rate -> How much the weights will be updated\n",
        "# There is also decay_functions and random_seed \n",
        "som = MiniSom(x = 10, y = 10, input_len = 15, sigma = 1.0, learning_rate = 0.5)"
      ],
      "execution_count": 7,
      "outputs": []
    },
    {
      "cell_type": "markdown",
      "metadata": {
        "id": "VSOInWE5n_xT"
      },
      "source": [
        "Initialize the Weight"
      ]
    },
    {
      "cell_type": "code",
      "metadata": {
        "id": "r-s8ofWgoA9E"
      },
      "source": [
        "som.random_weights_init(x)"
      ],
      "execution_count": 8,
      "outputs": []
    },
    {
      "cell_type": "markdown",
      "metadata": {
        "id": "wIYGJjVJoLS9"
      },
      "source": [
        "Train the SOM"
      ]
    },
    {
      "cell_type": "code",
      "metadata": {
        "id": "yD1PioPAmQHa"
      },
      "source": [
        "# Only use the x, without the y because it is an unsupervised algorithm\n",
        "som.train_random(data = x, num_iteration = 100)"
      ],
      "execution_count": 9,
      "outputs": []
    },
    {
      "cell_type": "markdown",
      "metadata": {
        "id": "Ck28ZkVW7RTF"
      },
      "source": [
        "# SOM Visualization"
      ]
    },
    {
      "cell_type": "markdown",
      "metadata": {
        "id": "7MdMc-DYpcf4"
      },
      "source": [
        "Fraud Detection"
      ]
    },
    {
      "cell_type": "code",
      "metadata": {
        "id": "CoBHOqg9pecu"
      },
      "source": [
        "# We can identify frauds from the credits card by observing nodes that have highest MID\n",
        "# Basically, MID (Mean Interneuron Distance) are distances between neurons\n",
        "# If there are neurons with much more differences value with other neurons, then most likely it is a fraud\n",
        "# In this visualization, high MID will be determined by the whiter the color of each neurons are"
      ],
      "execution_count": 10,
      "outputs": []
    },
    {
      "cell_type": "code",
      "metadata": {
        "colab": {
          "base_uri": "https://localhost:8080/",
          "height": 269
        },
        "id": "djfFMqO9pCMy",
        "outputId": "efc13494-0a95-477e-cbc9-bab270441457"
      },
      "source": [
        "# Initialize the Window\n",
        "bone()\n",
        "\n",
        "# Putting the Neighboring Neurons\n",
        "pcolor(som.distance_map().T)\n",
        "\n",
        "# Adding Color Legends to the Chart\n",
        "colorbar()\n",
        "\n",
        "# Approval Markers\n",
        "markers = [\"o\", \"s\"]\n",
        "colors = [\"r\", \"g\"]\n",
        "\n",
        "# Associate Data to Markers\n",
        "# x, y in plot -> The position of the winning node\n",
        "\n",
        "for idx, features in enumerate(x):\n",
        "  w = som.winner(features)\n",
        "  plot(w[0] + 0.5,\n",
        "       w[1] + 0.5,\n",
        "       markers[y[idx]],\n",
        "       markeredgecolor = colors[y[idx]],\n",
        "       markerfacecolor = \"None\",\n",
        "       markersize = 10,\n",
        "       markeredgewidth = 2,\n",
        "       )\n",
        "\n",
        "# Show the Graph\n",
        "show()"
      ],
      "execution_count": 11,
      "outputs": [
        {
          "output_type": "display_data",
          "data": {
            "image/png": "[encoded data removed]",
            "text/plain": [
              "<Figure size 432x288 with 2 Axes>"
            ]
          },
          "metadata": {
            "tags": [],
            "needs_background": "light"
          }
        }
      ]
    },
    {
      "cell_type": "markdown",
      "metadata": {
        "id": "nkwoumbP7Vys"
      },
      "source": [
        "# Specific Fraud Data"
      ]
    },
    {
      "cell_type": "markdown",
      "metadata": {
        "id": "f31g5D6is5sD"
      },
      "source": [
        "Get All Winning Nodes and Customers Mapping"
      ]
    },
    {
      "cell_type": "code",
      "metadata": {
        "id": "uIEcgsOotKbB"
      },
      "source": [
        "mappings = som.win_map(x)"
      ],
      "execution_count": 24,
      "outputs": []
    },
    {
      "cell_type": "code",
      "metadata": {
        "colab": {
          "base_uri": "https://localhost:8080/"
        },
        "id": "TzT7PPaIBGHJ",
        "outputId": "b669608d-eb09-47f7-ecde-cc40f08ca40f"
      },
      "source": [
        "mappings[(2, 3)]"
      ],
      "execution_count": 51,
      "outputs": [
        {
          "output_type": "execute_result",
          "data": {
            "text/plain": [
              "[array([1.71710134e-01, 0.00000000e+00, 2.50676692e-01, 4.91071429e-02,\n",
              "        5.00000000e-01, 6.15384615e-01, 8.75000000e-01, 1.40350877e-03,\n",
              "        0.00000000e+00, 1.00000000e+00, 4.47761194e-02, 0.00000000e+00,\n",
              "        5.00000000e-01, 0.00000000e+00, 3.30000000e-04])]"
            ]
          },
          "metadata": {
            "tags": []
          },
          "execution_count": 51
        }
      ]
    },
    {
      "cell_type": "code",
      "metadata": {
        "colab": {
          "base_uri": "https://localhost:8080/"
        },
        "id": "gZyNSiHbBVWH",
        "outputId": "8b3087c5-9c28-4bb3-def4-f17d13dba771"
      },
      "source": [
        "mappings[(1, 7)]"
      ],
      "execution_count": 52,
      "outputs": [
        {
          "output_type": "execute_result",
          "data": {
            "text/plain": [
              "[array([0.68839822, 1.        , 0.03639098, 0.00142857, 0.5       ,\n",
              "        0.53846154, 0.375     , 0.00140351, 0.        , 0.        ,\n",
              "        0.        , 0.        , 0.5       , 0.        , 0.        ]),\n",
              " array([0.57560395, 1.        , 0.2356391 , 0.04464286, 0.5       ,\n",
              "        0.61538462, 0.375     , 0.06140351, 0.        , 0.        ,\n",
              "        0.        , 0.        , 0.5       , 0.1       , 0.        ]),\n",
              " array([7.46509216e-01, 1.00000000e+00, 3.42105263e-01, 1.51785714e-01,\n",
              "        5.00000000e-01, 7.69230769e-01, 3.75000000e-01, 1.22807018e-01,\n",
              "        0.00000000e+00, 0.00000000e+00, 0.00000000e+00, 0.00000000e+00,\n",
              "        5.00000000e-01, 2.27000000e-01, 5.00000000e-04]),\n",
              " array([0.80564132, 1.        , 0.24180451, 0.125     , 0.5       ,\n",
              "        0.53846154, 0.375     , 0.00578947, 0.        , 0.        ,\n",
              "        0.        , 0.        , 0.5       , 0.108     , 0.        ]),\n",
              " array([0.02282875, 1.        , 0.35834586, 0.        , 0.5       ,\n",
              "        0.53846154, 0.375     , 0.        , 0.        , 0.        ,\n",
              "        0.        , 0.        , 1.        , 0.092     , 0.        ]),\n",
              " array([3.59389578e-01, 1.00000000e+00, 1.12781955e-01, 5.35714286e-02,\n",
              "        5.00000000e-01, 6.15384615e-01, 3.75000000e-01, 5.26315789e-02,\n",
              "        0.00000000e+00, 0.00000000e+00, 0.00000000e+00, 0.00000000e+00,\n",
              "        5.00000000e-01, 7.50000000e-02, 8.00000000e-05]),\n",
              " array([0.53080339, 1.        , 0.2281203 , 0.01339286, 0.5       ,\n",
              "        0.53846154, 0.375     , 0.01017544, 0.        , 0.        ,\n",
              "        0.        , 0.        , 0.5       , 0.11      , 0.0014    ]),\n",
              " array([0.53508403, 1.        , 0.14165414, 0.        , 0.5       ,\n",
              "        0.53846154, 0.375     , 0.        , 0.        , 0.        ,\n",
              "        0.        , 0.        , 1.        , 0.092     , 0.        ]),\n",
              " array([0.17208254, 1.        , 0.02135338, 0.25      , 0.5       ,\n",
              "        0.69230769, 0.375     , 0.03508772, 0.        , 0.        ,\n",
              "        0.        , 0.        , 0.5       , 0.3       , 0.        ]),\n",
              " array([3.38763219e-01, 1.00000000e+00, 3.57142857e-01, 2.98214286e-02,\n",
              "        5.00000000e-01, 6.92307692e-01, 3.75000000e-01, 1.40350877e-03,\n",
              "        0.00000000e+00, 0.00000000e+00, 0.00000000e+00, 0.00000000e+00,\n",
              "        5.00000000e-01, 6.00000000e-02, 5.00000000e-05]),\n",
              " array([9.33736170e-01, 1.00000000e+00, 3.05714286e-01, 8.92857143e-02,\n",
              "        5.00000000e-01, 5.38461538e-01, 3.75000000e-01, 3.50877193e-02,\n",
              "        0.00000000e+00, 0.00000000e+00, 0.00000000e+00, 0.00000000e+00,\n",
              "        5.00000000e-01, 2.30000000e-01, 1.60000000e-04]),\n",
              " array([0.66940564, 1.        , 0.06270677, 0.00732143, 0.5       ,\n",
              "        0.38461538, 0.375     , 0.00140351, 0.        , 0.        ,\n",
              "        0.        , 0.        , 0.5       , 0.14      , 0.0075    ]),\n",
              " array([0.31508555, 1.        , 0.31323308, 0.        , 0.5       ,\n",
              "        0.53846154, 0.375     , 0.        , 0.        , 0.        ,\n",
              "        0.        , 0.        , 1.        , 0.092     , 0.        ]),\n",
              " array([0.47541935, 1.        , 0.29954887, 0.07732143, 0.5       ,\n",
              "        0.53846154, 0.375     , 0.05263158, 0.        , 0.        ,\n",
              "        0.        , 0.        , 1.        , 0.06      , 0.        ]),\n",
              " array([0.56430371, 1.        , 0.09398496, 0.25      , 0.5       ,\n",
              "        0.53846154, 0.375     , 0.01754386, 0.        , 0.        ,\n",
              "        0.        , 0.        , 0.5       , 0.        , 0.        ]),\n",
              " array([0.66055204, 1.        , 0.29954887, 0.04464286, 0.5       ,\n",
              "        0.61538462, 0.375     , 0.04087719, 0.        , 0.        ,\n",
              "        0.        , 0.        , 0.5       , 0.06      , 0.        ]),\n",
              " array([0.48434903, 1.        , 0.19669173, 0.01928571, 0.5       ,\n",
              "        0.23076923, 0.        , 0.        , 0.        , 0.        ,\n",
              "        0.        , 0.        , 0.5       , 0.05      , 0.        ]),\n",
              " array([0.99167097, 1.        , 0.2593985 , 0.07446429, 0.5       ,\n",
              "        0.53846154, 0.375     , 0.00298246, 0.        , 0.        ,\n",
              "        0.        , 0.        , 0.5       , 0.15      , 0.        ]),\n",
              " array([0.64250848, 1.        , 0.33714286, 0.64732143, 0.5       ,\n",
              "        0.61538462, 0.375     , 0.00298246, 0.        , 0.        ,\n",
              "        0.        , 0.        , 0.5       , 0.16      , 0.03552   ]),\n",
              " array([8.56039947e-01, 1.00000000e+00, 7.63909774e-02, 0.00000000e+00,\n",
              "        5.00000000e-01, 7.69230769e-01, 3.75000000e-01, 2.33333333e-02,\n",
              "        0.00000000e+00, 0.00000000e+00, 0.00000000e+00, 0.00000000e+00,\n",
              "        5.00000000e-01, 8.00000000e-02, 1.00000000e-05]),\n",
              " array([0.70709849, 1.        , 0.17293233, 0.03571429, 0.5       ,\n",
              "        0.38461538, 0.375     , 0.01754386, 0.        , 0.        ,\n",
              "        0.        , 0.        , 0.5       , 0.1       , 0.        ]),\n",
              " array([5.39925279e-01, 1.00000000e+00, 1.81654135e-01, 4.58392857e-01,\n",
              "        5.00000000e-01, 9.23076923e-01, 3.75000000e-01, 1.75438596e-02,\n",
              "        0.00000000e+00, 0.00000000e+00, 0.00000000e+00, 0.00000000e+00,\n",
              "        5.00000000e-01, 0.00000000e+00, 2.00000000e-05]),\n",
              " array([0.56592546, 1.        , 0.09518797, 0.00892857, 0.5       ,\n",
              "        0.76923077, 0.375     , 0.00438596, 0.        , 0.        ,\n",
              "        0.        , 0.        , 0.5       , 0.1       , 0.        ]),\n",
              " array([3.19774636e-01, 1.00000000e+00, 1.00300752e-01, 3.87500000e-02,\n",
              "        5.00000000e-01, 7.69230769e-01, 3.75000000e-01, 5.26315789e-02,\n",
              "        0.00000000e+00, 0.00000000e+00, 0.00000000e+00, 0.00000000e+00,\n",
              "        5.00000000e-01, 5.40000000e-02, 7.00000000e-05]),\n",
              " array([0.85242403, 1.        , 0.10030075, 0.        , 0.5       ,\n",
              "        0.53846154, 0.375     , 0.        , 0.        , 0.        ,\n",
              "        0.        , 0.        , 1.        , 0.092     , 0.        ]),\n",
              " array([0.21779209, 1.        , 0.12285714, 0.01785714, 0.5       ,\n",
              "        0.53846154, 0.375     , 0.00438596, 0.        , 0.        ,\n",
              "        0.        , 0.        , 0.5       , 0.18      , 0.        ]),\n",
              " array([0.86643922, 1.        , 0.31578947, 0.08928571, 0.5       ,\n",
              "        0.92307692, 0.5       , 0.01754386, 0.        , 0.        ,\n",
              "        0.        , 0.        , 0.5       , 0.174     , 0.        ]),\n",
              " array([0.45275078, 1.        , 0.11774436, 0.02821429, 0.        ,\n",
              "        0.92307692, 0.375     , 0.02333333, 0.        , 0.        ,\n",
              "        0.        , 0.        , 0.5       , 0.08      , 0.        ]),\n",
              " array([0.54585571, 1.        , 0.16285714, 0.04464286, 0.5       ,\n",
              "        0.53846154, 0.375     , 0.00877193, 0.        , 0.        ,\n",
              "        0.        , 0.        , 0.5       , 0.055     , 0.        ]),\n",
              " array([0.70443961, 1.        , 0.18676692, 0.02982143, 0.5       ,\n",
              "        0.92307692, 0.375     , 0.04087719, 0.        , 0.        ,\n",
              "        0.        , 0.        , 0.5       , 0.05      , 0.        ]),\n",
              " array([0.4027686 , 1.        , 0.15293233, 0.02375   , 0.5       ,\n",
              "        0.53846154, 0.375     , 0.00578947, 0.        , 0.        ,\n",
              "        0.        , 0.        , 0.5       , 0.05      , 0.        ]),\n",
              " array([8.17950659e-01, 1.00000000e+00, 1.04060150e-01, 1.48214286e-02,\n",
              "        5.00000000e-01, 5.38461538e-01, 3.75000000e-01, 4.38596491e-03,\n",
              "        0.00000000e+00, 0.00000000e+00, 0.00000000e+00, 0.00000000e+00,\n",
              "        5.00000000e-01, 0.00000000e+00, 4.40000000e-04])]"
            ]
          },
          "metadata": {
            "tags": []
          },
          "execution_count": 52
        }
      ]
    },
    {
      "cell_type": "markdown",
      "metadata": {
        "id": "AaXXRwHHtu8I"
      },
      "source": [
        "Get Lists of Fraud Customers"
      ]
    },
    {
      "cell_type": "code",
      "metadata": {
        "id": "d8HTryJ4txZ-"
      },
      "source": [
        "# Dangerous hard-coded code for the mappings\n",
        "frauds = np.concatenate((mappings[(2, 3)], mappings[(1, 7)]), axis = 0)"
      ],
      "execution_count": 48,
      "outputs": []
    },
    {
      "cell_type": "markdown",
      "metadata": {
        "id": "14X-bzS0uPXJ"
      },
      "source": [
        "Inverse Scaling the Transformed Data"
      ]
    },
    {
      "cell_type": "code",
      "metadata": {
        "id": "h039vE7VuQrk"
      },
      "source": [
        "frauds = scaler.inverse_transform(frauds)"
      ],
      "execution_count": 49,
      "outputs": []
    },
    {
      "cell_type": "code",
      "metadata": {
        "colab": {
          "base_uri": "https://localhost:8080/"
        },
        "id": "v5Va_dK0voYQ",
        "outputId": "55f0417e-bfbb-44ea-a8ef-539f13a3b05e"
      },
      "source": [
        "frauds"
      ],
      "execution_count": 50,
      "outputs": [
        {
          "output_type": "execute_result",
          "data": {
            "text/plain": [
              "array([[1.5608595e+07, 0.0000000e+00, 3.0420000e+01, 1.3750000e+00,\n",
              "        2.0000000e+00, 9.0000000e+00, 8.0000000e+00, 4.0000000e-02,\n",
              "        0.0000000e+00, 1.0000000e+00, 3.0000000e+00, 0.0000000e+00,\n",
              "        2.0000000e+00, 0.0000000e+00, 3.4000000e+01],\n",
              "       [1.5737627e+07, 1.0000000e+00, 1.6170000e+01, 4.0000000e-02,\n",
              "        2.0000000e+00, 8.0000000e+00, 4.0000000e+00, 4.0000000e-02,\n",
              "        0.0000000e+00, 0.0000000e+00, 0.0000000e+00, 0.0000000e+00,\n",
              "        2.0000000e+00, 0.0000000e+00, 1.0000000e+00],\n",
              "       [1.5709459e+07, 1.0000000e+00, 2.9420000e+01, 1.2500000e+00,\n",
              "        2.0000000e+00, 9.0000000e+00, 4.0000000e+00, 1.7500000e+00,\n",
              "        0.0000000e+00, 0.0000000e+00, 0.0000000e+00, 0.0000000e+00,\n",
              "        2.0000000e+00, 2.0000000e+02, 1.0000000e+00],\n",
              "       [1.5752139e+07, 1.0000000e+00, 3.6500000e+01, 4.2500000e+00,\n",
              "        2.0000000e+00, 1.1000000e+01, 4.0000000e+00, 3.5000000e+00,\n",
              "        0.0000000e+00, 0.0000000e+00, 0.0000000e+00, 0.0000000e+00,\n",
              "        2.0000000e+00, 4.5400000e+02, 5.1000000e+01],\n",
              "       [1.5766906e+07, 1.0000000e+00, 2.9830000e+01, 3.5000000e+00,\n",
              "        2.0000000e+00, 8.0000000e+00, 4.0000000e+00, 1.6500000e-01,\n",
              "        0.0000000e+00, 0.0000000e+00, 0.0000000e+00, 0.0000000e+00,\n",
              "        2.0000000e+00, 2.1600000e+02, 1.0000000e+00],\n",
              "       [1.5571415e+07, 1.0000000e+00, 3.7580000e+01, 0.0000000e+00,\n",
              "        2.0000000e+00, 8.0000000e+00, 4.0000000e+00, 0.0000000e+00,\n",
              "        0.0000000e+00, 0.0000000e+00, 0.0000000e+00, 0.0000000e+00,\n",
              "        3.0000000e+00, 1.8400000e+02, 1.0000000e+00],\n",
              "       [1.5655464e+07, 1.0000000e+00, 2.1250000e+01, 1.5000000e+00,\n",
              "        2.0000000e+00, 9.0000000e+00, 4.0000000e+00, 1.5000000e+00,\n",
              "        0.0000000e+00, 0.0000000e+00, 0.0000000e+00, 0.0000000e+00,\n",
              "        2.0000000e+00, 1.5000000e+02, 9.0000000e+00],\n",
              "       [1.5698271e+07, 1.0000000e+00, 2.8920000e+01, 3.7500000e-01,\n",
              "        2.0000000e+00, 8.0000000e+00, 4.0000000e+00, 2.9000000e-01,\n",
              "        0.0000000e+00, 0.0000000e+00, 0.0000000e+00, 0.0000000e+00,\n",
              "        2.0000000e+00, 2.2000000e+02, 1.4100000e+02],\n",
              "       [1.5699340e+07, 1.0000000e+00, 2.3170000e+01, 0.0000000e+00,\n",
              "        2.0000000e+00, 8.0000000e+00, 4.0000000e+00, 0.0000000e+00,\n",
              "        0.0000000e+00, 0.0000000e+00, 0.0000000e+00, 0.0000000e+00,\n",
              "        3.0000000e+00, 1.8400000e+02, 1.0000000e+00],\n",
              "       [1.5608688e+07, 1.0000000e+00, 1.5170000e+01, 7.0000000e+00,\n",
              "        2.0000000e+00, 1.0000000e+01, 4.0000000e+00, 1.0000000e+00,\n",
              "        0.0000000e+00, 0.0000000e+00, 0.0000000e+00, 0.0000000e+00,\n",
              "        2.0000000e+00, 6.0000000e+02, 1.0000000e+00],\n",
              "       [1.5650313e+07, 1.0000000e+00, 3.7500000e+01, 8.3500000e-01,\n",
              "        2.0000000e+00, 1.0000000e+01, 4.0000000e+00, 4.0000000e-02,\n",
              "        0.0000000e+00, 0.0000000e+00, 0.0000000e+00, 0.0000000e+00,\n",
              "        2.0000000e+00, 1.2000000e+02, 6.0000000e+00],\n",
              "       [1.5798895e+07, 1.0000000e+00, 3.4080000e+01, 2.5000000e+00,\n",
              "        2.0000000e+00, 8.0000000e+00, 4.0000000e+00, 1.0000000e+00,\n",
              "        0.0000000e+00, 0.0000000e+00, 0.0000000e+00, 0.0000000e+00,\n",
              "        2.0000000e+00, 4.6000000e+02, 1.7000000e+01],\n",
              "       [1.5732884e+07, 1.0000000e+00, 1.7920000e+01, 2.0500000e-01,\n",
              "        2.0000000e+00, 6.0000000e+00, 4.0000000e+00, 4.0000000e-02,\n",
              "        0.0000000e+00, 0.0000000e+00, 0.0000000e+00, 0.0000000e+00,\n",
              "        2.0000000e+00, 2.8000000e+02, 7.5100000e+02],\n",
              "       [1.5644400e+07, 1.0000000e+00, 3.4580000e+01, 0.0000000e+00,\n",
              "        2.0000000e+00, 8.0000000e+00, 4.0000000e+00, 0.0000000e+00,\n",
              "        0.0000000e+00, 0.0000000e+00, 0.0000000e+00, 0.0000000e+00,\n",
              "        3.0000000e+00, 1.8400000e+02, 1.0000000e+00],\n",
              "       [1.5684440e+07, 1.0000000e+00, 3.3670000e+01, 2.1650000e+00,\n",
              "        2.0000000e+00, 8.0000000e+00, 4.0000000e+00, 1.5000000e+00,\n",
              "        0.0000000e+00, 0.0000000e+00, 0.0000000e+00, 0.0000000e+00,\n",
              "        3.0000000e+00, 1.2000000e+02, 1.0000000e+00],\n",
              "       [1.5706637e+07, 1.0000000e+00, 2.0000000e+01, 7.0000000e+00,\n",
              "        2.0000000e+00, 8.0000000e+00, 4.0000000e+00, 5.0000000e-01,\n",
              "        0.0000000e+00, 0.0000000e+00, 0.0000000e+00, 0.0000000e+00,\n",
              "        2.0000000e+00, 0.0000000e+00, 1.0000000e+00],\n",
              "       [1.5730673e+07, 1.0000000e+00, 3.3670000e+01, 1.2500000e+00,\n",
              "        2.0000000e+00, 9.0000000e+00, 4.0000000e+00, 1.1650000e+00,\n",
              "        0.0000000e+00, 0.0000000e+00, 0.0000000e+00, 0.0000000e+00,\n",
              "        2.0000000e+00, 1.2000000e+02, 1.0000000e+00],\n",
              "       [1.5686670e+07, 1.0000000e+00, 2.6830000e+01, 5.4000000e-01,\n",
              "        2.0000000e+00, 4.0000000e+00, 1.0000000e+00, 0.0000000e+00,\n",
              "        0.0000000e+00, 0.0000000e+00, 0.0000000e+00, 0.0000000e+00,\n",
              "        2.0000000e+00, 1.0000000e+02, 1.0000000e+00],\n",
              "       [1.5813363e+07, 1.0000000e+00, 3.1000000e+01, 2.0850000e+00,\n",
              "        2.0000000e+00, 8.0000000e+00, 4.0000000e+00, 8.5000000e-02,\n",
              "        0.0000000e+00, 0.0000000e+00, 0.0000000e+00, 0.0000000e+00,\n",
              "        2.0000000e+00, 3.0000000e+02, 1.0000000e+00],\n",
              "       [1.5726167e+07, 1.0000000e+00, 3.6170000e+01, 1.8125000e+01,\n",
              "        2.0000000e+00, 9.0000000e+00, 4.0000000e+00, 8.5000000e-02,\n",
              "        0.0000000e+00, 0.0000000e+00, 0.0000000e+00, 0.0000000e+00,\n",
              "        2.0000000e+00, 3.2000000e+02, 3.5530000e+03],\n",
              "       [1.5779492e+07, 1.0000000e+00, 1.8830000e+01, 0.0000000e+00,\n",
              "        2.0000000e+00, 1.1000000e+01, 4.0000000e+00, 6.6500000e-01,\n",
              "        0.0000000e+00, 0.0000000e+00, 0.0000000e+00, 0.0000000e+00,\n",
              "        2.0000000e+00, 1.6000000e+02, 2.0000000e+00],\n",
              "       [1.5742297e+07, 1.0000000e+00, 2.5250000e+01, 1.0000000e+00,\n",
              "        2.0000000e+00, 6.0000000e+00, 4.0000000e+00, 5.0000000e-01,\n",
              "        0.0000000e+00, 0.0000000e+00, 0.0000000e+00, 0.0000000e+00,\n",
              "        2.0000000e+00, 2.0000000e+02, 1.0000000e+00],\n",
              "       [1.5700549e+07, 1.0000000e+00, 2.5830000e+01, 1.2835000e+01,\n",
              "        2.0000000e+00, 1.3000000e+01, 4.0000000e+00, 5.0000000e-01,\n",
              "        0.0000000e+00, 0.0000000e+00, 0.0000000e+00, 0.0000000e+00,\n",
              "        2.0000000e+00, 0.0000000e+00, 3.0000000e+00],\n",
              "       [1.5707042e+07, 1.0000000e+00, 2.0080000e+01, 2.5000000e-01,\n",
              "        2.0000000e+00, 1.1000000e+01, 4.0000000e+00, 1.2500000e-01,\n",
              "        0.0000000e+00, 0.0000000e+00, 0.0000000e+00, 0.0000000e+00,\n",
              "        2.0000000e+00, 2.0000000e+02, 1.0000000e+00],\n",
              "       [1.5645571e+07, 1.0000000e+00, 2.0420000e+01, 1.0850000e+00,\n",
              "        2.0000000e+00, 1.1000000e+01, 4.0000000e+00, 1.5000000e+00,\n",
              "        0.0000000e+00, 0.0000000e+00, 0.0000000e+00, 0.0000000e+00,\n",
              "        2.0000000e+00, 1.0800000e+02, 8.0000000e+00],\n",
              "       [1.5778589e+07, 1.0000000e+00, 2.0420000e+01, 0.0000000e+00,\n",
              "        2.0000000e+00, 8.0000000e+00, 4.0000000e+00, 0.0000000e+00,\n",
              "        0.0000000e+00, 0.0000000e+00, 0.0000000e+00, 0.0000000e+00,\n",
              "        3.0000000e+00, 1.8400000e+02, 1.0000000e+00],\n",
              "       [1.5620103e+07, 1.0000000e+00, 2.1920000e+01, 5.0000000e-01,\n",
              "        2.0000000e+00, 8.0000000e+00, 4.0000000e+00, 1.2500000e-01,\n",
              "        0.0000000e+00, 0.0000000e+00, 0.0000000e+00, 0.0000000e+00,\n",
              "        2.0000000e+00, 3.6000000e+02, 1.0000000e+00],\n",
              "       [1.5782089e+07, 1.0000000e+00, 3.4750000e+01, 2.5000000e+00,\n",
              "        2.0000000e+00, 1.3000000e+01, 5.0000000e+00, 5.0000000e-01,\n",
              "        0.0000000e+00, 0.0000000e+00, 0.0000000e+00, 0.0000000e+00,\n",
              "        2.0000000e+00, 3.4800000e+02, 1.0000000e+00],\n",
              "       [1.5678779e+07, 1.0000000e+00, 2.1580000e+01, 7.9000000e-01,\n",
              "        1.0000000e+00, 1.3000000e+01, 4.0000000e+00, 6.6500000e-01,\n",
              "        0.0000000e+00, 0.0000000e+00, 0.0000000e+00, 0.0000000e+00,\n",
              "        2.0000000e+00, 1.6000000e+02, 1.0000000e+00],\n",
              "       [1.5702030e+07, 1.0000000e+00, 2.4580000e+01, 1.2500000e+00,\n",
              "        2.0000000e+00, 8.0000000e+00, 4.0000000e+00, 2.5000000e-01,\n",
              "        0.0000000e+00, 0.0000000e+00, 0.0000000e+00, 0.0000000e+00,\n",
              "        2.0000000e+00, 1.1000000e+02, 1.0000000e+00],\n",
              "       [1.5741633e+07, 1.0000000e+00, 2.6170000e+01, 8.3500000e-01,\n",
              "        2.0000000e+00, 1.3000000e+01, 4.0000000e+00, 1.1650000e+00,\n",
              "        0.0000000e+00, 0.0000000e+00, 0.0000000e+00, 0.0000000e+00,\n",
              "        2.0000000e+00, 1.0000000e+02, 1.0000000e+00],\n",
              "       [1.5666297e+07, 1.0000000e+00, 2.3920000e+01, 6.6500000e-01,\n",
              "        2.0000000e+00, 8.0000000e+00, 4.0000000e+00, 1.6500000e-01,\n",
              "        0.0000000e+00, 0.0000000e+00, 0.0000000e+00, 0.0000000e+00,\n",
              "        2.0000000e+00, 1.0000000e+02, 1.0000000e+00],\n",
              "       [1.5769980e+07, 1.0000000e+00, 2.0670000e+01, 4.1500000e-01,\n",
              "        2.0000000e+00, 8.0000000e+00, 4.0000000e+00, 1.2500000e-01,\n",
              "        0.0000000e+00, 0.0000000e+00, 0.0000000e+00, 0.0000000e+00,\n",
              "        2.0000000e+00, 0.0000000e+00, 4.5000000e+01]])"
            ]
          },
          "metadata": {
            "tags": []
          },
          "execution_count": 50
        }
      ]
    },
    {
      "cell_type": "markdown",
      "metadata": {
        "id": "J2HG8T4cCK5r"
      },
      "source": [
        "# Feature Extraction"
      ]
    },
    {
      "cell_type": "markdown",
      "metadata": {
        "id": "_wwUu5UYCRFa"
      },
      "source": [
        "Creating the Matrix"
      ]
    },
    {
      "cell_type": "code",
      "metadata": {
        "id": "GKd1wZgbCPiW"
      },
      "source": [
        "customers = dataset.iloc[:, 1:].values"
      ],
      "execution_count": 53,
      "outputs": []
    },
    {
      "cell_type": "markdown",
      "metadata": {
        "id": "pAnY9z94CvGo"
      },
      "source": [
        "Dependent Variable"
      ]
    },
    {
      "cell_type": "code",
      "metadata": {
        "id": "ouYRxV_vCwfD"
      },
      "source": [
        "is_fraud = np.zeros(len(dataset))"
      ],
      "execution_count": 59,
      "outputs": []
    },
    {
      "cell_type": "markdown",
      "metadata": {
        "id": "6TlXwzv9DOHN"
      },
      "source": [
        "Replace the Dependent to Frauds Detected by SOM"
      ]
    },
    {
      "cell_type": "code",
      "metadata": {
        "id": "6_nYq4nzDRyZ"
      },
      "source": [
        "for i in range(len(dataset)):\n",
        "  if(dataset.iloc[i, 0] in frauds):\n",
        "    is_fraud[i] = 1"
      ],
      "execution_count": 60,
      "outputs": []
    },
    {
      "cell_type": "code",
      "metadata": {
        "colab": {
          "base_uri": "https://localhost:8080/"
        },
        "id": "TsvY-ODsD0vQ",
        "outputId": "dc5890f9-8c03-4481-887e-acaac3394a76"
      },
      "source": [
        "is_fraud"
      ],
      "execution_count": 61,
      "outputs": [
        {
          "output_type": "execute_result",
          "data": {
            "text/plain": [
              "array([0., 0., 0., 0., 0., 0., 0., 0., 0., 0., 0., 0., 0., 0., 0., 0., 0.,\n",
              "       0., 0., 0., 0., 0., 0., 0., 0., 0., 0., 0., 0., 0., 0., 0., 0., 0.,\n",
              "       0., 0., 0., 0., 0., 0., 0., 0., 0., 0., 0., 0., 0., 1., 0., 0., 0.,\n",
              "       0., 0., 0., 0., 0., 0., 0., 0., 0., 0., 0., 0., 0., 0., 0., 0., 0.,\n",
              "       0., 0., 0., 1., 1., 0., 0., 1., 0., 1., 0., 0., 0., 0., 0., 0., 0.,\n",
              "       1., 0., 0., 0., 0., 0., 0., 0., 0., 0., 1., 0., 0., 0., 0., 0., 0.,\n",
              "       0., 0., 0., 0., 0., 0., 0., 0., 0., 0., 0., 0., 0., 0., 0., 0., 0.,\n",
              "       0., 0., 0., 0., 0., 0., 0., 0., 1., 0., 0., 0., 0., 0., 0., 0., 0.,\n",
              "       0., 0., 0., 0., 0., 0., 0., 0., 0., 0., 0., 0., 0., 0., 1., 0., 1.,\n",
              "       0., 0., 0., 0., 1., 0., 0., 1., 0., 0., 0., 0., 0., 0., 0., 1., 0.,\n",
              "       0., 0., 0., 0., 0., 0., 0., 0., 0., 0., 0., 0., 0., 0., 0., 0., 0.,\n",
              "       0., 0., 0., 0., 0., 0., 1., 0., 0., 0., 0., 0., 0., 0., 0., 0., 0.,\n",
              "       0., 0., 0., 0., 0., 0., 0., 0., 0., 0., 0., 0., 1., 0., 0., 0., 0.,\n",
              "       1., 0., 0., 0., 0., 0., 0., 0., 0., 0., 0., 0., 0., 0., 0., 0., 0.,\n",
              "       0., 0., 0., 0., 0., 0., 0., 0., 0., 0., 0., 0., 0., 0., 0., 1., 0.,\n",
              "       0., 0., 0., 0., 0., 0., 0., 0., 0., 0., 0., 0., 0., 0., 0., 0., 0.,\n",
              "       0., 0., 0., 0., 0., 0., 0., 0., 0., 0., 0., 0., 0., 0., 0., 0., 0.,\n",
              "       0., 0., 0., 0., 0., 0., 0., 0., 0., 0., 0., 0., 0., 0., 0., 0., 0.,\n",
              "       0., 0., 0., 0., 0., 0., 0., 0., 0., 1., 0., 0., 0., 0., 0., 0., 0.,\n",
              "       0., 0., 0., 0., 0., 0., 0., 0., 0., 0., 0., 0., 0., 0., 0., 0., 0.,\n",
              "       0., 0., 0., 0., 0., 0., 0., 0., 0., 1., 0., 0., 0., 0., 0., 0., 0.,\n",
              "       0., 0., 0., 0., 0., 0., 0., 0., 0., 0., 0., 0., 0., 0., 1., 0., 0.,\n",
              "       0., 0., 0., 0., 0., 0., 0., 0., 0., 0., 0., 0., 0., 0., 0., 0., 0.,\n",
              "       0., 0., 0., 0., 0., 0., 0., 0., 0., 0., 0., 0., 0., 1., 0., 0., 0.,\n",
              "       0., 1., 0., 0., 0., 0., 0., 0., 0., 0., 0., 0., 0., 0., 0., 0., 0.,\n",
              "       0., 0., 0., 0., 0., 0., 0., 0., 0., 0., 0., 0., 0., 0., 0., 0., 0.,\n",
              "       1., 0., 1., 0., 0., 0., 0., 0., 0., 0., 0., 0., 0., 0., 0., 0., 0.,\n",
              "       0., 0., 0., 1., 0., 0., 0., 0., 0., 0., 0., 0., 0., 0., 0., 0., 0.,\n",
              "       0., 0., 0., 0., 0., 0., 1., 0., 0., 0., 0., 0., 0., 0., 0., 0., 0.,\n",
              "       0., 0., 0., 0., 0., 0., 0., 0., 0., 0., 0., 0., 0., 0., 0., 0., 0.,\n",
              "       0., 0., 0., 0., 0., 0., 0., 0., 0., 0., 0., 0., 0., 0., 0., 1., 0.,\n",
              "       0., 0., 0., 0., 0., 0., 0., 0., 0., 0., 0., 0., 0., 0., 0., 0., 0.,\n",
              "       0., 0., 0., 0., 0., 0., 0., 0., 0., 0., 0., 0., 0., 0., 0., 0., 0.,\n",
              "       0., 0., 1., 0., 0., 0., 0., 0., 0., 0., 0., 0., 0., 0., 0., 0., 0.,\n",
              "       0., 0., 0., 0., 0., 0., 0., 0., 0., 0., 0., 0., 0., 0., 0., 0., 0.,\n",
              "       0., 0., 0., 0., 0., 0., 0., 0., 0., 0., 0., 0., 0., 0., 0., 0., 0.,\n",
              "       0., 0., 0., 0., 0., 0., 1., 0., 0., 0., 0., 0., 0., 0., 0., 0., 0.,\n",
              "       0., 0., 0., 0., 0., 0., 0., 1., 0., 0., 0., 0., 0., 0., 0., 0., 0.,\n",
              "       0., 1., 0., 0., 0., 0., 0., 0., 0., 0., 0., 0., 0., 1., 0., 0., 0.,\n",
              "       0., 0., 0., 0., 0., 0., 0., 0., 0., 0., 0., 0., 0., 0., 0., 0., 0.,\n",
              "       0., 0., 0., 0., 0., 0., 1., 0., 0., 0.])"
            ]
          },
          "metadata": {
            "tags": []
          },
          "execution_count": 61
        }
      ]
    },
    {
      "cell_type": "markdown",
      "metadata": {
        "id": "mgC4sXWdD9Qt"
      },
      "source": [
        "# Training the ANN"
      ]
    },
    {
      "cell_type": "markdown",
      "metadata": {
        "id": "cIjD9FBjA3L6"
      },
      "source": [
        "Feature Scaling"
      ]
    },
    {
      "cell_type": "code",
      "metadata": {
        "id": "TV8SxwgoArK9"
      },
      "source": [
        "# Ease calculations resources\n",
        "from sklearn.preprocessing import StandardScaler\n",
        "scaler = StandardScaler()\n",
        "customers = scaler.fit_transform(customers)"
      ],
      "execution_count": 65,
      "outputs": []
    },
    {
      "cell_type": "markdown",
      "metadata": {
        "id": "fLei4ZyXRNfv"
      },
      "source": [
        "**Activation Function**"
      ]
    },
    {
      "cell_type": "markdown",
      "metadata": {
        "id": "89HA2uswRQnd"
      },
      "source": [
        "Either `Rectifier (Relu)` or `Sigmoid` is good because the target is in binary and both of the functions gave the results ranging between 0 and 1. The difference is Relu gives `just 0 or 1`, but Sigmoid gives value similar to the `probability` of the events (continuous value between 0 and 1)"
      ]
    },
    {
      "cell_type": "markdown",
      "metadata": {
        "id": "gZaaQ-xcB06a"
      },
      "source": [
        "Initializing Artificial Neural Networks"
      ]
    },
    {
      "cell_type": "code",
      "metadata": {
        "id": "-i2ZY3hlByNw"
      },
      "source": [
        "classifier = Sequential()"
      ],
      "execution_count": 66,
      "outputs": []
    },
    {
      "cell_type": "markdown",
      "metadata": {
        "id": "-EyYb4laCwdk"
      },
      "source": [
        "Adding Input Layer"
      ]
    },
    {
      "cell_type": "code",
      "metadata": {
        "id": "QJJxniUDCu51"
      },
      "source": [
        "classifier.add(Dense(units=2, activation='relu', kernel_initializer='uniform', input_dim = 15))"
      ],
      "execution_count": 67,
      "outputs": []
    },
    {
      "cell_type": "markdown",
      "metadata": {
        "id": "gTsaPYmMRKBD"
      },
      "source": [
        "Output Layers"
      ]
    },
    {
      "cell_type": "code",
      "metadata": {
        "id": "u8wkRMllQhZo"
      },
      "source": [
        "classifier.add(Dense(units=1, activation='sigmoid', kernel_initializer='uniform'))"
      ],
      "execution_count": 68,
      "outputs": []
    },
    {
      "cell_type": "markdown",
      "metadata": {
        "id": "spaW31TjR02K"
      },
      "source": [
        "Compile the ANN"
      ]
    },
    {
      "cell_type": "code",
      "metadata": {
        "id": "zBcKQOtFR2SO"
      },
      "source": [
        "# Similar to applying gradiant descent to all the layers\n",
        "classifier.compile(optimizer=\"adam\", loss=\"binary_crossentropy\", metrics=['accuracy'])"
      ],
      "execution_count": 69,
      "outputs": []
    },
    {
      "cell_type": "markdown",
      "metadata": {
        "id": "pHIlMyCCTC88"
      },
      "source": [
        "Fit the ANN to the Training Set"
      ]
    },
    {
      "cell_type": "code",
      "metadata": {
        "colab": {
          "base_uri": "https://localhost:8080/"
        },
        "id": "L44HkW8kTCt_",
        "outputId": "15dc81ef-e3e1-4f46-fee5-2549ea4f9d6b"
      },
      "source": [
        "classifier.fit(customers, is_fraud, batch_size=1, epochs=2)"
      ],
      "execution_count": 70,
      "outputs": [
        {
          "output_type": "stream",
          "text": [
            "Epoch 1/2\n",
            "690/690 [==============================] - 1s 970us/step - loss: 0.5913 - accuracy: 0.9574\n",
            "Epoch 2/2\n",
            "690/690 [==============================] - 1s 943us/step - loss: 0.2706 - accuracy: 0.9462\n"
          ],
          "name": "stdout"
        },
        {
          "output_type": "execute_result",
          "data": {
            "text/plain": [
              "<tensorflow.python.keras.callbacks.History at 0x7f0176291e50>"
            ]
          },
          "metadata": {
            "tags": []
          },
          "execution_count": 70
        }
      ]
    },
    {
      "cell_type": "markdown",
      "metadata": {
        "id": "89o-izjWFmSK"
      },
      "source": [
        "# Making Predictions"
      ]
    },
    {
      "cell_type": "markdown",
      "metadata": {
        "id": "-lC85FGoV2Tb"
      },
      "source": [
        "Predict the Probability of Frauds"
      ]
    },
    {
      "cell_type": "code",
      "metadata": {
        "id": "EeYuOQ9lTlYW"
      },
      "source": [
        "# Predict the probability of frauds for each customers\n",
        "pred = classifier.predict(customers)"
      ],
      "execution_count": 72,
      "outputs": []
    },
    {
      "cell_type": "markdown",
      "metadata": {
        "id": "Y11B2fimGGhd"
      },
      "source": [
        "Concatenate the Customer ID and Prediction Result"
      ]
    },
    {
      "cell_type": "code",
      "metadata": {
        "id": "F0ZSmHRhD_QO"
      },
      "source": [
        "pred = np.concatenate((dataset.iloc[:, 0:1].values, pred), axis = 1)"
      ],
      "execution_count": 77,
      "outputs": []
    },
    {
      "cell_type": "markdown",
      "metadata": {
        "id": "GOBY-pbgHonJ"
      },
      "source": [
        "Sort the Predicted Values"
      ]
    },
    {
      "cell_type": "code",
      "metadata": {
        "id": "Ni0Jf0TcHPL8"
      },
      "source": [
        "pred = pred[pred[:, 1].argsort()]"
      ],
      "execution_count": 79,
      "outputs": []
    },
    {
      "cell_type": "code",
      "metadata": {
        "colab": {
          "base_uri": "https://localhost:8080/"
        },
        "id": "iFmlD_vVHnNQ",
        "outputId": "7b7fecc2-8a1a-412f-d540-cbcbb203e7db"
      },
      "source": [
        "pred"
      ],
      "execution_count": 82,
      "outputs": [
        {
          "output_type": "execute_result",
          "data": {
            "text/plain": [
              "array([[1.57238270e+07, 2.61968374e-03],\n",
              "       [1.56548590e+07, 3.28487158e-03],\n",
              "       [1.57250280e+07, 4.03901935e-03],\n",
              "       ...,\n",
              "       [1.57574340e+07, 3.27698827e-01],\n",
              "       [1.56993400e+07, 3.27698827e-01],\n",
              "       [1.56444000e+07, 3.27698827e-01]])"
            ]
          },
          "metadata": {
            "tags": []
          },
          "execution_count": 82
        }
      ]
    }
  ]
}